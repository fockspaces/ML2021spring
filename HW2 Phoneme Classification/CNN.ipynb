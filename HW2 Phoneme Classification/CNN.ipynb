{
  "cells": [
    {
      "cell_type": "markdown",
      "metadata": {
        "id": "view-in-github",
        "colab_type": "text"
      },
      "source": [
        "<a href=\"https://colab.research.google.com/github/fockspaces/ML2021spring/blob/main/HW2%20Phoneme%20Classification/CNN.ipynb\" target=\"_parent\"><img src=\"https://colab.research.google.com/assets/colab-badge.svg\" alt=\"Open In Colab\"/></a>"
      ]
    },
    {
      "cell_type": "markdown",
      "metadata": {
        "id": "OYlaRwNu7ojq"
      },
      "source": [
        "# **Homework 2-1 Phoneme Classification**\n",
        "\n",
        "* Slides: https://speech.ee.ntu.edu.tw/~hylee/ml/ml2021-course-data/hw/HW02/HW02.pdf\n",
        "* Video (Chinese): https://youtu.be/PdjXnQbu2zo\n",
        "* Video (English): https://youtu.be/ESRr-VCykBs\n"
      ]
    },
    {
      "cell_type": "markdown",
      "metadata": {
        "id": "emUd7uS7crTz"
      },
      "source": [
        "## The DARPA TIMIT Acoustic-Phonetic Continuous Speech Corpus (TIMIT)\n",
        "The TIMIT corpus of reading speech has been designed to provide speech data for the acquisition of acoustic-phonetic knowledge and for the development and evaluation of automatic speech recognition systems.\n",
        "\n",
        "This homework is a multiclass classification task, \n",
        "we are going to train a deep neural network classifier to predict the phonemes for each frame from the speech corpus TIMIT.\n",
        "\n",
        "link: https://academictorrents.com/details/34e2b78745138186976cbc27939b1b34d18bd5b3"
      ]
    },
    {
      "cell_type": "markdown",
      "metadata": {
        "id": "KVUGfWTo7_Oj"
      },
      "source": [
        "## Download Data\n",
        "Download data from google drive, then unzip it.\n",
        "\n",
        "You should have `timit_11/train_11.npy`, `timit_11/train_label_11.npy`, and `timit_11/test_11.npy` after running this block.<br><br>\n",
        "`timit_11/`\n",
        "- `train_11.npy`: training data<br>\n",
        "- `train_label_11.npy`: training label<br>\n",
        "- `test_11.npy`:  testing data<br><br>\n",
        "\n",
        "**notes: if the google drive link is dead, you can download the data directly from Kaggle and upload it to the workspace**\n",
        "\n",
        "\n"
      ]
    },
    {
      "cell_type": "markdown",
      "metadata": {
        "id": "nFqKyrT9mDtM"
      },
      "source": [
        ""
      ]
    },
    {
      "cell_type": "code",
      "execution_count": null,
      "metadata": {
        "colab": {
          "base_uri": "https://localhost:8080/"
        },
        "id": "wk_CWeC8mDR0",
        "outputId": "1f28204e-035b-4fe8-d44b-bf8b8c5ab746"
      },
      "outputs": [
        {
          "name": "stdout",
          "output_type": "stream",
          "text": [
            "Drive already mounted at /content/drive; to attempt to forcibly remount, call drive.mount(\"/content/drive\", force_remount=True).\n"
          ]
        }
      ],
      "source": [
        "from google.colab import drive\n",
        "drive.mount('/content/drive')"
      ]
    },
    {
      "cell_type": "code",
      "execution_count": null,
      "metadata": {
        "colab": {
          "base_uri": "https://localhost:8080/"
        },
        "id": "OzkiMEcC3Foq",
        "outputId": "a470fe0f-e4ce-43e6-b9cd-2eb8c1826b7c"
      },
      "outputs": [
        {
          "name": "stdout",
          "output_type": "stream",
          "text": [
            "Archive:  data.zip\n",
            "   creating: timit_11/\n",
            "  inflating: timit_11/train_11.npy   \n",
            "  inflating: timit_11/test_11.npy    \n",
            "  inflating: timit_11/train_label_11.npy  \n",
            "data.zip  drive  sample_data  timit_11\n"
          ]
        }
      ],
      "source": [
        "# !gdown --id '1HPkcmQmFGu-3OknddKIa5dNDsR05lIQR' --output data.zip\n",
        "!cp \"/content/drive/MyDrive/timit_11_v2.zip 的副本\" \"data.zip\"\n",
        "!unzip data.zip\n",
        "!ls "
      ]
    },
    {
      "cell_type": "markdown",
      "metadata": {
        "id": "_L_4anls8Drv"
      },
      "source": [
        "## Preparing Data\n",
        "Load the training and testing data from the `.npy` file (NumPy array)."
      ]
    },
    {
      "cell_type": "code",
      "execution_count": null,
      "metadata": {
        "colab": {
          "base_uri": "https://localhost:8080/"
        },
        "id": "IJjLT8em-y9G",
        "outputId": "a19e73ca-fd54-4c5a-9338-3ba9c113b690"
      },
      "outputs": [
        {
          "name": "stdout",
          "output_type": "stream",
          "text": [
            "Loading data ...\n",
            "Size of training data: (1229932, 429)\n",
            "Size of testing data: (451552, 429)\n"
          ]
        }
      ],
      "source": [
        "import numpy as np\n",
        "\n",
        "print('Loading data ...')\n",
        "\n",
        "data_root='./timit_11/'\n",
        "train = np.load(data_root + 'train_11.npy')\n",
        "train_label = np.load(data_root + 'train_label_11.npy')\n",
        "test = np.load(data_root + 'test_11.npy')\n",
        "\n",
        "\n",
        "print('Size of training data: {}'.format(train.shape))\n",
        "print('Size of testing data: {}'.format(test.shape))"
      ]
    },
    {
      "cell_type": "code",
      "execution_count": null,
      "metadata": {
        "id": "3WB9xXUlIqAT"
      },
      "outputs": [],
      "source": [
        "def sample(data, stride):\n",
        "  base = data.copy()\n",
        "  for step in range(1, stride+1, 1):\n",
        "    Rshift = np.roll(base,step,axis=0)\n",
        "    data = np.concatenate((Rshift,data), axis=1)\n",
        "  for step in range(-1, -1-1*stride, -1):\n",
        "    Lshift = np.roll(base,step,axis=0)\n",
        "    data = np.concatenate((data,Lshift), axis=1)\n",
        "\n",
        "  data = np.reshape(data, (-1,2*stride+1,39))\n",
        "  return data\n",
        "\n",
        "def normalize(data):\n",
        "  mean = np.mean(data, axis=0)\n",
        "  std = np.std(data, axis=0)\n",
        "  return (data - mean)/std"
      ]
    },
    {
      "cell_type": "code",
      "execution_count": null,
      "metadata": {
        "id": "pN_80nqvjOrq"
      },
      "outputs": [],
      "source": [
        "# # normalize data\n",
        "# train = normalize(train)\n",
        "# test = normalize(test)"
      ]
    },
    {
      "cell_type": "code",
      "execution_count": null,
      "metadata": {
        "id": "y_0i5dpHQPBu"
      },
      "outputs": [],
      "source": [
        "stride = 25\n",
        "# (,429)split to(11,39)\n",
        "train = np.reshape(train, (-1,11,39))\n",
        "test = np.reshape(test, (-1,11,39))\n",
        "\n",
        "# pick only the 5th MFCC which is corresponding to the label\n",
        "train = train[:,5,:]\n",
        "test = test[:,5,:]\n",
        "\n",
        "# include nearby MFCC (To extend the frame length)\n",
        "train = sample(train, stride)\n",
        "test = sample(test, stride)\n",
        "\n",
        "# transform to 4d input array (with kernel)\n",
        "train = np.reshape(train, (-1,1,(2*stride+1),39))\n",
        "test = np.reshape(test, (-1,1,(2*stride+1),39))\n",
        "\n"
      ]
    },
    {
      "cell_type": "code",
      "execution_count": null,
      "metadata": {
        "colab": {
          "base_uri": "https://localhost:8080/"
        },
        "id": "GsKh0UbeO5VY",
        "outputId": "76626052-dfd0-4695-82a0-13d583e6613d"
      },
      "outputs": [
        {
          "data": {
            "text/plain": [
              "(1229932, 1, 51, 39)"
            ]
          },
          "execution_count": 13,
          "metadata": {},
          "output_type": "execute_result"
        }
      ],
      "source": [
        "train.shape"
      ]
    },
    {
      "cell_type": "code",
      "execution_count": null,
      "metadata": {
        "colab": {
          "base_uri": "https://localhost:8080/",
          "height": 321
        },
        "id": "siKG6cmMepVv",
        "outputId": "c7fee721-850d-494c-c730-7a2fd3165024"
      },
      "outputs": [
        {
          "data": {
            "image/png": "[encoded data removed]",
            "text/plain": [
              "<Figure size 1080x360 with 1 Axes>"
            ]
          },
          "metadata": {},
          "output_type": "display_data"
        }
      ],
      "source": [
        "import matplotlib.pyplot as plt\n",
        "mfcc = np.reshape(train[0], ((2*stride+1),39))\n",
        "fig, ax = plt.subplots(figsize=(15, 5))\n",
        "ax.imshow(mfcc);"
      ]
    },
    {
      "cell_type": "markdown",
      "metadata": {
        "id": "us5XW_x6udZQ"
      },
      "source": [
        "## Create Dataset"
      ]
    },
    {
      "cell_type": "code",
      "execution_count": null,
      "metadata": {
        "id": "Fjf5EcmJtf4e"
      },
      "outputs": [],
      "source": [
        "import torch\n",
        "from torch.utils.data import Dataset\n",
        "\n",
        "class TIMITDataset(Dataset):\n",
        "    def __init__(self, X, y=None):\n",
        "        self.data = torch.from_numpy(X).float()\n",
        "        if y is not None:\n",
        "            y = y.astype(np.int)\n",
        "            self.label = torch.LongTensor(y)\n",
        "        else:\n",
        "            self.label = None\n",
        "\n",
        "    def __getitem__(self, idx):\n",
        "        if self.label is not None:\n",
        "            return self.data[idx], self.label[idx]\n",
        "        else:\n",
        "            return self.data[idx]\n",
        "\n",
        "    def __len__(self):\n",
        "        return len(self.data)\n"
      ]
    },
    {
      "cell_type": "markdown",
      "metadata": {
        "id": "otIC6WhGeh9v"
      },
      "source": [
        "Split the labeled data into a training set and a validation set, you can modify the variable `VAL_RATIO` to change the ratio of validation data."
      ]
    },
    {
      "cell_type": "code",
      "execution_count": null,
      "metadata": {
        "id": "sYqi_lAuvC59"
      },
      "outputs": [],
      "source": [
        "VAL_RATIO = 0\n",
        "\n",
        "percent = int(train.shape[0] * (1 - VAL_RATIO))\n",
        "# train_x, train_y, val_x, val_y = train[:], train_label[:], train[percent:], train_label[percent:]\n",
        "val_x, val_y = train[percent:], train_label[percent:]\n",
        "# print('Size of training set: {}'.format(train_x.shape))\n",
        "# print('Size of validation set: {}'.format(val_x.shape))"
      ]
    },
    {
      "cell_type": "code",
      "execution_count": null,
      "metadata": {
        "id": "E04qGvVN212c"
      },
      "outputs": [],
      "source": [
        "# train_x = train_x.reshape(train_x.shape[0], 1, train_x.shape[1], -1)\n",
        "# test_x = test.reshape(test.shape[0], 1, test.shape[1], -1)\n",
        "# train_x.shape"
      ]
    },
    {
      "cell_type": "markdown",
      "metadata": {
        "id": "nbCfclUIgMTX"
      },
      "source": [
        "Create a data loader from the dataset, feel free to tweak the variable `BATCH_SIZE` here."
      ]
    },
    {
      "cell_type": "code",
      "execution_count": null,
      "metadata": {
        "colab": {
          "base_uri": "https://localhost:8080/"
        },
        "id": "RUCbQvqJurYc",
        "outputId": "a2746c96-52d7-4f64-e9da-7a67e394cc59"
      },
      "outputs": [
        {
          "name": "stderr",
          "output_type": "stream",
          "text": [
            "/usr/local/lib/python3.7/dist-packages/ipykernel_launcher.py:8: DeprecationWarning: `np.int` is a deprecated alias for the builtin `int`. To silence this warning, use `int` by itself. Doing this will not modify any behavior and is safe. When replacing `np.int`, you may wish to use e.g. `np.int64` or `np.int32` to specify the precision. If you wish to review your current use, check the release note link for additional information.\n",
            "Deprecated in NumPy 1.20; for more details and guidance: https://numpy.org/devdocs/release/1.20.0-notes.html#deprecations\n",
            "  \n"
          ]
        }
      ],
      "source": [
        "BATCH_SIZE = 1024\n",
        "\n",
        "from torch.utils.data import DataLoader\n",
        "\n",
        "train_set = TIMITDataset(train, train_label)\n",
        "val_set = TIMITDataset(val_x, val_y)\n",
        "\n",
        "train_loader = DataLoader(train_set, batch_size=BATCH_SIZE, shuffle=True) #only shuffle the training data\n",
        "val_loader = DataLoader(val_set, batch_size=BATCH_SIZE, shuffle=False)"
      ]
    },
    {
      "cell_type": "markdown",
      "metadata": {
        "id": "_SY7X0lUgb50"
      },
      "source": [
        "Cleanup the unneeded variables to save memory.<br>\n",
        "\n",
        "**notes: if you need to use these variables later, then you may remove this block or clean up unneeded variables later<br>the data size is quite huge, so be aware of memory usage in colab**"
      ]
    },
    {
      "cell_type": "code",
      "execution_count": null,
      "metadata": {
        "colab": {
          "base_uri": "https://localhost:8080/"
        },
        "id": "y8rzkGraeYeN",
        "outputId": "b123297f-2a69-438c-f48c-7d98ddf0f58c"
      },
      "outputs": [
        {
          "data": {
            "text/plain": [
              "200"
            ]
          },
          "execution_count": 19,
          "metadata": {},
          "output_type": "execute_result"
        }
      ],
      "source": [
        "import gc\n",
        "\n",
        "del train, train_label, val_x, val_y\n",
        "gc.collect()"
      ]
    },
    {
      "cell_type": "markdown",
      "metadata": {
        "id": "IRqKNvNZwe3V"
      },
      "source": [
        "## Create Model"
      ]
    },
    {
      "cell_type": "markdown",
      "metadata": {
        "id": "FYr1ng5fh9pA"
      },
      "source": [
        "Define model architecture, you are encouraged to change and experiment with the model architecture."
      ]
    },
    {
      "cell_type": "code",
      "execution_count": null,
      "metadata": {
        "id": "lbZrwT6Ny0XL"
      },
      "outputs": [],
      "source": [
        "import torch\n",
        "import torch.nn as nn\n",
        "\n",
        "class FC(nn.Module):\n",
        "    def __init__(self):\n",
        "        super(Classifier, self).__init__()\n",
        "        self.layer1 = nn.Linear(429, 1024)\n",
        "        self.layer2 = nn.Linear(1024, 512)\n",
        "        self.layer3 = nn.Linear(512, 128)\n",
        "        self.out = nn.Linear(128, 39) \n",
        "\n",
        "        self.act_fn = nn.Sigmoid()\n",
        "\n",
        "    def forward(self, x):\n",
        "        x = self.layer1(x)\n",
        "        x = self.act_fn(x)\n",
        "\n",
        "        x = self.layer2(x)\n",
        "        x = self.act_fn(x)\n",
        "\n",
        "        x = self.layer3(x)\n",
        "        x = self.act_fn(x)\n",
        "\n",
        "        x = self.out(x)\n",
        "        \n",
        "        return x\n",
        "\n"
      ]
    },
    {
      "cell_type": "code",
      "execution_count": null,
      "metadata": {
        "id": "SfJfs6CcXZZj"
      },
      "outputs": [],
      "source": [
        "import torch.nn.functional as F\n",
        "class Classifier(nn.Module):\n",
        "    def __init__(self):\n",
        "        super(Classifier, self).__init__()\n",
        "        # The arguments for commonly used modules:\n",
        "        # torch.nn.Conv2d(in_channels, out_channels, kernel_size, stride, padding)\n",
        "        # torch.nn.MaxPool2d(kernel_size, stride, padding)\n",
        "\n",
        "        # input image size: [1, num, 29]\n",
        "        self.cnn_layers = nn.Sequential(\n",
        "            #1st\n",
        "            nn.Conv2d(1, 32, 3, 1, 1),\n",
        "            nn.BatchNorm2d(32),\n",
        "            nn.ReLU(),\n",
        "            \n",
        "            #2nd\n",
        "            nn.Conv2d(32, 32, 5, 1, 1),\n",
        "            nn.BatchNorm2d(32),\n",
        "            nn.ReLU(),\n",
        "            nn.MaxPool2d(2, 2, 0),\n",
        "\n",
        "            #3rd\n",
        "            nn.Conv2d(32, 64, 5, 1, 1),\n",
        "            nn.BatchNorm2d(64),\n",
        "            nn.ReLU(),\n",
        "\n",
        "            #4th\n",
        "            nn.Conv2d(64, 64, 5, 1, 1),\n",
        "            nn.BatchNorm2d(64),\n",
        "            nn.ReLU(),\n",
        "            nn.MaxPool2d(2, 2, 0),\n",
        "\n",
        "            #5th\n",
        "            nn.Conv2d(64, 128, 3, 1, 1),\n",
        "            nn.BatchNorm2d(128),\n",
        "            nn.ReLU(),\n",
        "\n",
        "            #6th\n",
        "            nn.Conv2d(128, 128, 3, 1, 1),\n",
        "            nn.BatchNorm2d(128),\n",
        "            nn.ReLU(),\n",
        "            nn.MaxPool2d(2, 2, 0),\n",
        "            nn.Dropout(0.25),\n",
        "        )\n",
        "        self.fc_layers = nn.Sequential(\n",
        "            nn.Linear(216 * 8*8, 128),\n",
        "            nn.Dropout(0.25),\n",
        "            nn.ReLU(),\n",
        "            nn.Linear(128, 39)\n",
        "        )\n",
        "\n",
        "    def forward(self, x):\n",
        "        # input (x): [batch_size, 3, 128, 128]\n",
        "        # output: [batch_size, 11]\n",
        "\n",
        "        # Extract features by convolutional layers.\n",
        "        x = self.cnn_layers(x)\n",
        "\n",
        "        # The extracted feature map must be flatten before going to fully-connected layers.\n",
        "        x = x.flatten(1)\n",
        "\n",
        "        # The features are transformed by fully-connected layers to obtain the final logits.\n",
        "        x = self.fc_layers(x)\n",
        "        x = F.log_softmax(x, dim=1)\n",
        "        return x"
      ]
    },
    {
      "cell_type": "markdown",
      "metadata": {
        "id": "VRYciXZvPbYh"
      },
      "source": [
        "## Training"
      ]
    },
    {
      "cell_type": "code",
      "execution_count": null,
      "metadata": {
        "id": "y114Vmm3Ja6o"
      },
      "outputs": [],
      "source": [
        "#check device\n",
        "def get_device():\n",
        "  return 'cuda' if torch.cuda.is_available() else 'cpu'"
      ]
    },
    {
      "cell_type": "markdown",
      "metadata": {
        "id": "sEX-yjHjhGuH"
      },
      "source": [
        "Fix random seeds for reproducibility."
      ]
    },
    {
      "cell_type": "code",
      "execution_count": null,
      "metadata": {
        "id": "88xPiUnm0tAd"
      },
      "outputs": [],
      "source": [
        "# fix random seed\n",
        "def same_seeds(seed):\n",
        "    torch.manual_seed(seed)\n",
        "    if torch.cuda.is_available():\n",
        "        torch.cuda.manual_seed(seed)\n",
        "        torch.cuda.manual_seed_all(seed)  \n",
        "    np.random.seed(seed)  \n",
        "    torch.backends.cudnn.benchmark = False\n",
        "    torch.backends.cudnn.deterministic = True"
      ]
    },
    {
      "cell_type": "markdown",
      "metadata": {
        "id": "KbBcBXkSp6RA"
      },
      "source": [
        "Feel free to change the training parameters here."
      ]
    },
    {
      "cell_type": "code",
      "execution_count": null,
      "metadata": {
        "colab": {
          "base_uri": "https://localhost:8080/"
        },
        "id": "QTp3ZXg1yO9Y",
        "outputId": "edc17898-fcad-49e4-aaef-662a10eab432"
      },
      "outputs": [
        {
          "name": "stdout",
          "output_type": "stream",
          "text": [
            "DEVICE: cuda\n"
          ]
        }
      ],
      "source": [
        "# fix random seed for reproducibility\n",
        "same_seeds(0)\n",
        "\n",
        "# get device \n",
        "device = get_device()\n",
        "print(f'DEVICE: {device}')\n",
        "\n",
        "# training parameters\n",
        "num_epoch = 500               # number of training epoch\n",
        "learning_rate = 1e-4       # learning rate\n",
        "\n",
        "# the path where checkpoint saved\n",
        "model_path = './CNNmodel_2.ckpt'\n",
        "\n",
        "# create model, define a loss function, and optimizer\n",
        "model = Classifier().to(device)\n",
        "criterion = nn.CrossEntropyLoss() \n",
        "optimizer = torch.optim.Adam(model.parameters(), lr=learning_rate)"
      ]
    },
    {
      "cell_type": "code",
      "execution_count": 30,
      "metadata": {
        "colab": {
          "base_uri": "https://localhost:8080/"
        },
        "id": "CdMWsBs7zzNs",
        "outputId": "7311ace4-64d3-457d-a763-21e3c6bb1c0b"
      },
      "outputs": [
        {
          "output_type": "stream",
          "name": "stdout",
          "text": [
            "[001/500] Train Acc: 0.513833 Loss: 1.691434\n",
            "[002/500] Train Acc: 0.609419 Loss: 1.283014\n",
            "[003/500] Train Acc: 0.633533 Loss: 1.189353\n",
            "[004/500] Train Acc: 0.647182 Loss: 1.135708\n",
            "[005/500] Train Acc: 0.657011 Loss: 1.098157\n",
            "[006/500] Train Acc: 0.664307 Loss: 1.070914\n",
            "[007/500] Train Acc: 0.670145 Loss: 1.048557\n",
            "[008/500] Train Acc: 0.675385 Loss: 1.027712\n",
            "[009/500] Train Acc: 0.679744 Loss: 1.011562\n",
            "[010/500] Train Acc: 0.683445 Loss: 0.996809\n",
            "[011/500] Train Acc: 0.687220 Loss: 0.984208\n",
            "[012/500] Train Acc: 0.690148 Loss: 0.972104\n",
            "[013/500] Train Acc: 0.692888 Loss: 0.960707\n",
            "[014/500] Train Acc: 0.695313 Loss: 0.951323\n",
            "[015/500] Train Acc: 0.697793 Loss: 0.942410\n",
            "[016/500] Train Acc: 0.699849 Loss: 0.935776\n",
            "[017/500] Train Acc: 0.701875 Loss: 0.926810\n",
            "[018/500] Train Acc: 0.704202 Loss: 0.918113\n",
            "[019/500] Train Acc: 0.705961 Loss: 0.910830\n",
            "[020/500] Train Acc: 0.708006 Loss: 0.904276\n",
            "[021/500] Train Acc: 0.709437 Loss: 0.899351\n",
            "[022/500] Train Acc: 0.711242 Loss: 0.891641\n",
            "[023/500] Train Acc: 0.712448 Loss: 0.887300\n",
            "[024/500] Train Acc: 0.713783 Loss: 0.882848\n",
            "[025/500] Train Acc: 0.715409 Loss: 0.877150\n",
            "[026/500] Train Acc: 0.715918 Loss: 0.872872\n",
            "[027/500] Train Acc: 0.717133 Loss: 0.868392\n",
            "[028/500] Train Acc: 0.718846 Loss: 0.863253\n",
            "[029/500] Train Acc: 0.720222 Loss: 0.857606\n",
            "[030/500] Train Acc: 0.721768 Loss: 0.853369\n",
            "[031/500] Train Acc: 0.722585 Loss: 0.849017\n",
            "[032/500] Train Acc: 0.724216 Loss: 0.843470\n",
            "[033/500] Train Acc: 0.725796 Loss: 0.838842\n",
            "[034/500] Train Acc: 0.726410 Loss: 0.836175\n",
            "[035/500] Train Acc: 0.727713 Loss: 0.831599\n",
            "[036/500] Train Acc: 0.734004 Loss: 0.809601\n",
            "[037/500] Train Acc: 0.734635 Loss: 0.807077\n",
            "[038/500] Train Acc: 0.735443 Loss: 0.805956\n",
            "[039/500] Train Acc: 0.734902 Loss: 0.806348\n",
            "[040/500] Train Acc: 0.736147 Loss: 0.804052\n",
            "[041/500] Train Acc: 0.735144 Loss: 0.805098\n",
            "[042/500] Train Acc: 0.735102 Loss: 0.804208\n",
            "[043/500] Train Acc: 0.735124 Loss: 0.804731\n",
            "[044/500] Train Acc: 0.735024 Loss: 0.804677\n",
            "[045/500] Train Acc: 0.735739 Loss: 0.803595\n",
            "[046/500] Train Acc: 0.736332 Loss: 0.802805\n",
            "[047/500] Train Acc: 0.735922 Loss: 0.802405\n",
            "[048/500] Train Acc: 0.735649 Loss: 0.802225\n",
            "[049/500] Train Acc: 0.735859 Loss: 0.802478\n",
            "[050/500] Train Acc: 0.736302 Loss: 0.800931\n",
            "[051/500] Train Acc: 0.736055 Loss: 0.802172\n",
            "[052/500] Train Acc: 0.735498 Loss: 0.803392\n",
            "[053/500] Train Acc: 0.736633 Loss: 0.800553\n",
            "[054/500] Train Acc: 0.736132 Loss: 0.801999\n",
            "[055/500] Train Acc: 0.737041 Loss: 0.800081\n",
            "[056/500] Train Acc: 0.737041 Loss: 0.799397\n",
            "[057/500] Train Acc: 0.736613 Loss: 0.800543\n",
            "[058/500] Train Acc: 0.736904 Loss: 0.800486\n",
            "[059/500] Train Acc: 0.736794 Loss: 0.799997\n",
            "[060/500] Train Acc: 0.736433 Loss: 0.800630\n",
            "[061/500] Train Acc: 0.737029 Loss: 0.798823\n",
            "[062/500] Train Acc: 0.737242 Loss: 0.799607\n",
            "[063/500] Train Acc: 0.737436 Loss: 0.798407\n",
            "[064/500] Train Acc: 0.736823 Loss: 0.799178\n",
            "[065/500] Train Acc: 0.736996 Loss: 0.799109\n",
            "[066/500] Train Acc: 0.737389 Loss: 0.798251\n",
            "[067/500] Train Acc: 0.737283 Loss: 0.798305\n",
            "[068/500] Train Acc: 0.737242 Loss: 0.798132\n",
            "[069/500] Train Acc: 0.737445 Loss: 0.798171\n",
            "[070/500] Train Acc: 0.737216 Loss: 0.798822\n",
            "[071/500] Train Acc: 0.737448 Loss: 0.797556\n",
            "[072/500] Train Acc: 0.737552 Loss: 0.798481\n",
            "[073/500] Train Acc: 0.737984 Loss: 0.797669\n",
            "[074/500] Train Acc: 0.737442 Loss: 0.797229\n",
            "[075/500] Train Acc: 0.737717 Loss: 0.796894\n",
            "[076/500] Train Acc: 0.737446 Loss: 0.796728\n",
            "[077/500] Train Acc: 0.737593 Loss: 0.796754\n",
            "[078/500] Train Acc: 0.737963 Loss: 0.796001\n",
            "[079/500] Train Acc: 0.737429 Loss: 0.797275\n",
            "[080/500] Train Acc: 0.737508 Loss: 0.796023\n",
            "[081/500] Train Acc: 0.737599 Loss: 0.797013\n",
            "[082/500] Train Acc: 0.737789 Loss: 0.795602\n",
            "[083/500] Train Acc: 0.738204 Loss: 0.795490\n",
            "[084/500] Train Acc: 0.738031 Loss: 0.795991\n",
            "[085/500] Train Acc: 0.738112 Loss: 0.795678\n",
            "[086/500] Train Acc: 0.738308 Loss: 0.795812\n",
            "[087/500] Train Acc: 0.737993 Loss: 0.795686\n",
            "[088/500] Train Acc: 0.738594 Loss: 0.793782\n",
            "[089/500] Train Acc: 0.738591 Loss: 0.794293\n",
            "[090/500] Train Acc: 0.737862 Loss: 0.795170\n",
            "[091/500] Train Acc: 0.738308 Loss: 0.794953\n",
            "[092/500] Train Acc: 0.738138 Loss: 0.794449\n",
            "[093/500] Train Acc: 0.738291 Loss: 0.794127\n",
            "[094/500] Train Acc: 0.738330 Loss: 0.794158\n",
            "[095/500] Train Acc: 0.738583 Loss: 0.794152\n",
            "[096/500] Train Acc: 0.738655 Loss: 0.793245\n",
            "[097/500] Train Acc: 0.738694 Loss: 0.794064\n",
            "[098/500] Train Acc: 0.738917 Loss: 0.792886\n",
            "[099/500] Train Acc: 0.738724 Loss: 0.792996\n",
            "[100/500] Train Acc: 0.738470 Loss: 0.793565\n",
            "[101/500] Train Acc: 0.738541 Loss: 0.794076\n",
            "[102/500] Train Acc: 0.738451 Loss: 0.793402\n",
            "[103/500] Train Acc: 0.738947 Loss: 0.791723\n",
            "[104/500] Train Acc: 0.738975 Loss: 0.793267\n",
            "[105/500] Train Acc: 0.738569 Loss: 0.792760\n",
            "[106/500] Train Acc: 0.738206 Loss: 0.794515\n",
            "[107/500] Train Acc: 0.738881 Loss: 0.791823\n",
            "[108/500] Train Acc: 0.738903 Loss: 0.792207\n",
            "[109/500] Train Acc: 0.739223 Loss: 0.792388\n",
            "[110/500] Train Acc: 0.738897 Loss: 0.792486\n",
            "[111/500] Train Acc: 0.739244 Loss: 0.792209\n",
            "[112/500] Train Acc: 0.739077 Loss: 0.791412\n",
            "[113/500] Train Acc: 0.739208 Loss: 0.791705\n",
            "[114/500] Train Acc: 0.738998 Loss: 0.791772\n",
            "[115/500] Train Acc: 0.739189 Loss: 0.790504\n",
            "[116/500] Train Acc: 0.738716 Loss: 0.791265\n",
            "[117/500] Train Acc: 0.739180 Loss: 0.791280\n",
            "[118/500] Train Acc: 0.739563 Loss: 0.791448\n",
            "[119/500] Train Acc: 0.739061 Loss: 0.790799\n",
            "[120/500] Train Acc: 0.739228 Loss: 0.790748\n",
            "[121/500] Train Acc: 0.739978 Loss: 0.789781\n",
            "[122/500] Train Acc: 0.739554 Loss: 0.790295\n",
            "[123/500] Train Acc: 0.739238 Loss: 0.790930\n",
            "[124/500] Train Acc: 0.738952 Loss: 0.791116\n",
            "[125/500] Train Acc: 0.739515 Loss: 0.790054\n",
            "[126/500] Train Acc: 0.739660 Loss: 0.790537\n",
            "[127/500] Train Acc: 0.739112 Loss: 0.790929\n",
            "[128/500] Train Acc: 0.739553 Loss: 0.790118\n",
            "[129/500] Train Acc: 0.739715 Loss: 0.789945\n",
            "[130/500] Train Acc: 0.739072 Loss: 0.790049\n",
            "[131/500] Train Acc: 0.739217 Loss: 0.790678\n",
            "[132/500] Train Acc: 0.740033 Loss: 0.789455\n",
            "[133/500] Train Acc: 0.740215 Loss: 0.788613\n",
            "[134/500] Train Acc: 0.740043 Loss: 0.789919\n",
            "[135/500] Train Acc: 0.739948 Loss: 0.789315\n",
            "[136/500] Train Acc: 0.739882 Loss: 0.789172\n",
            "[137/500] Train Acc: 0.739745 Loss: 0.788890\n",
            "[138/500] Train Acc: 0.740437 Loss: 0.787470\n",
            "[139/500] Train Acc: 0.740191 Loss: 0.787389\n",
            "[140/500] Train Acc: 0.740521 Loss: 0.788021\n",
            "[141/500] Train Acc: 0.740418 Loss: 0.788350\n",
            "[142/500] Train Acc: 0.740071 Loss: 0.787768\n",
            "[143/500] Train Acc: 0.740119 Loss: 0.788230\n",
            "[144/500] Train Acc: 0.740127 Loss: 0.787898\n",
            "[145/500] Train Acc: 0.740256 Loss: 0.787800\n",
            "[146/500] Train Acc: 0.739913 Loss: 0.787924\n",
            "[147/500] Train Acc: 0.739801 Loss: 0.787549\n",
            "[148/500] Train Acc: 0.740504 Loss: 0.787994\n",
            "[149/500] Train Acc: 0.740115 Loss: 0.787828\n",
            "[150/500] Train Acc: 0.740530 Loss: 0.787434\n",
            "[151/500] Train Acc: 0.740521 Loss: 0.787528\n",
            "[152/500] Train Acc: 0.740782 Loss: 0.787102\n",
            "[153/500] Train Acc: 0.740389 Loss: 0.786776\n",
            "[154/500] Train Acc: 0.740634 Loss: 0.786730\n",
            "[155/500] Train Acc: 0.739980 Loss: 0.787028\n",
            "[156/500] Train Acc: 0.740639 Loss: 0.786264\n",
            "[157/500] Train Acc: 0.740486 Loss: 0.786731\n",
            "[158/500] Train Acc: 0.740328 Loss: 0.787517\n",
            "[159/500] Train Acc: 0.740736 Loss: 0.787193\n",
            "[160/500] Train Acc: 0.740690 Loss: 0.786471\n",
            "[161/500] Train Acc: 0.741228 Loss: 0.786022\n",
            "[162/500] Train Acc: 0.740631 Loss: 0.786843\n",
            "[163/500] Train Acc: 0.740742 Loss: 0.785731\n",
            "[164/500] Train Acc: 0.740884 Loss: 0.785631\n",
            "[165/500] Train Acc: 0.740552 Loss: 0.785746\n",
            "[166/500] Train Acc: 0.741164 Loss: 0.784956\n",
            "[167/500] Train Acc: 0.741140 Loss: 0.785483\n",
            "[168/500] Train Acc: 0.740712 Loss: 0.785420\n",
            "[169/500] Train Acc: 0.740708 Loss: 0.785703\n",
            "[170/500] Train Acc: 0.740987 Loss: 0.785324\n",
            "[171/500] Train Acc: 0.741248 Loss: 0.784352\n",
            "[172/500] Train Acc: 0.741100 Loss: 0.785389\n",
            "[173/500] Train Acc: 0.741040 Loss: 0.784606\n",
            "[174/500] Train Acc: 0.741549 Loss: 0.784561\n",
            "[175/500] Train Acc: 0.741182 Loss: 0.784921\n",
            "[176/500] Train Acc: 0.741013 Loss: 0.785444\n",
            "[177/500] Train Acc: 0.741099 Loss: 0.785111\n",
            "[178/500] Train Acc: 0.741552 Loss: 0.784472\n",
            "[179/500] Train Acc: 0.741278 Loss: 0.784582\n",
            "[180/500] Train Acc: 0.741008 Loss: 0.784689\n",
            "[181/500] Train Acc: 0.741139 Loss: 0.784380\n",
            "[182/500] Train Acc: 0.740809 Loss: 0.784288\n",
            "[183/500] Train Acc: 0.741984 Loss: 0.782853\n",
            "[184/500] Train Acc: 0.740960 Loss: 0.784455\n",
            "[185/500] Train Acc: 0.741019 Loss: 0.784118\n",
            "[186/500] Train Acc: 0.741198 Loss: 0.784205\n",
            "[187/500] Train Acc: 0.741132 Loss: 0.784856\n",
            "[188/500] Train Acc: 0.741272 Loss: 0.783437\n",
            "[189/500] Train Acc: 0.741511 Loss: 0.783413\n",
            "[190/500] Train Acc: 0.741566 Loss: 0.783286\n",
            "[191/500] Train Acc: 0.741303 Loss: 0.783455\n",
            "[192/500] Train Acc: 0.741560 Loss: 0.782950\n",
            "[193/500] Train Acc: 0.741858 Loss: 0.782174\n",
            "[194/500] Train Acc: 0.741413 Loss: 0.783738\n",
            "[195/500] Train Acc: 0.741258 Loss: 0.783357\n",
            "[196/500] Train Acc: 0.741369 Loss: 0.783097\n",
            "[197/500] Train Acc: 0.741835 Loss: 0.783205\n",
            "[198/500] Train Acc: 0.741690 Loss: 0.783189\n",
            "[199/500] Train Acc: 0.742020 Loss: 0.782197\n",
            "[200/500] Train Acc: 0.741752 Loss: 0.782040\n",
            "[201/500] Train Acc: 0.742132 Loss: 0.781630\n",
            "[202/500] Train Acc: 0.741711 Loss: 0.781834\n",
            "[203/500] Train Acc: 0.741541 Loss: 0.782922\n",
            "[204/500] Train Acc: 0.741643 Loss: 0.782161\n",
            "[205/500] Train Acc: 0.741633 Loss: 0.781924\n",
            "[206/500] Train Acc: 0.741911 Loss: 0.782862\n",
            "[207/500] Train Acc: 0.741461 Loss: 0.781749\n",
            "[208/500] Train Acc: 0.741903 Loss: 0.781218\n",
            "[209/500] Train Acc: 0.742363 Loss: 0.780443\n",
            "[210/500] Train Acc: 0.742005 Loss: 0.780897\n",
            "[211/500] Train Acc: 0.741664 Loss: 0.781308\n",
            "[212/500] Train Acc: 0.741317 Loss: 0.781954\n",
            "[213/500] Train Acc: 0.742494 Loss: 0.781420\n",
            "[214/500] Train Acc: 0.742046 Loss: 0.780438\n",
            "[215/500] Train Acc: 0.741834 Loss: 0.780785\n",
            "[216/500] Train Acc: 0.742225 Loss: 0.780175\n",
            "[217/500] Train Acc: 0.742264 Loss: 0.779878\n",
            "[218/500] Train Acc: 0.742359 Loss: 0.780800\n",
            "[219/500] Train Acc: 0.742058 Loss: 0.781137\n",
            "[220/500] Train Acc: 0.742097 Loss: 0.780920\n",
            "[221/500] Train Acc: 0.741941 Loss: 0.780652\n",
            "[222/500] Train Acc: 0.742200 Loss: 0.779054\n",
            "[223/500] Train Acc: 0.742274 Loss: 0.779916\n",
            "[224/500] Train Acc: 0.741803 Loss: 0.780887\n",
            "[225/500] Train Acc: 0.742540 Loss: 0.779976\n",
            "[226/500] Train Acc: 0.742141 Loss: 0.780185\n",
            "[227/500] Train Acc: 0.742148 Loss: 0.779759\n",
            "[228/500] Train Acc: 0.742931 Loss: 0.779392\n",
            "[229/500] Train Acc: 0.742778 Loss: 0.779419\n",
            "[230/500] Train Acc: 0.742317 Loss: 0.779809\n",
            "[231/500] Train Acc: 0.742944 Loss: 0.779004\n",
            "[232/500] Train Acc: 0.742122 Loss: 0.780648\n",
            "[233/500] Train Acc: 0.742900 Loss: 0.778673\n",
            "[234/500] Train Acc: 0.743064 Loss: 0.778801\n",
            "[235/500] Train Acc: 0.742874 Loss: 0.779591\n",
            "[236/500] Train Acc: 0.742621 Loss: 0.779608\n",
            "[237/500] Train Acc: 0.742958 Loss: 0.778436\n",
            "[238/500] Train Acc: 0.742566 Loss: 0.778886\n",
            "[239/500] Train Acc: 0.742721 Loss: 0.778845\n",
            "[240/500] Train Acc: 0.742767 Loss: 0.778917\n",
            "[241/500] Train Acc: 0.742757 Loss: 0.778480\n",
            "[242/500] Train Acc: 0.742748 Loss: 0.778486\n",
            "[243/500] Train Acc: 0.742661 Loss: 0.778154\n",
            "[244/500] Train Acc: 0.743142 Loss: 0.778779\n",
            "[245/500] Train Acc: 0.743122 Loss: 0.778391\n",
            "[246/500] Train Acc: 0.743266 Loss: 0.777759\n",
            "[247/500] Train Acc: 0.742685 Loss: 0.778636\n",
            "[248/500] Train Acc: 0.743044 Loss: 0.778650\n",
            "[249/500] Train Acc: 0.743203 Loss: 0.778159\n",
            "[250/500] Train Acc: 0.742717 Loss: 0.777610\n",
            "[251/500] Train Acc: 0.742783 Loss: 0.777703\n",
            "[252/500] Train Acc: 0.743039 Loss: 0.777149\n",
            "[253/500] Train Acc: 0.742559 Loss: 0.778308\n",
            "[254/500] Train Acc: 0.743180 Loss: 0.777424\n",
            "[255/500] Train Acc: 0.743264 Loss: 0.777279\n",
            "[256/500] Train Acc: 0.743126 Loss: 0.777155\n",
            "[257/500] Train Acc: 0.743556 Loss: 0.776830\n",
            "[258/500] Train Acc: 0.743309 Loss: 0.777036\n",
            "[259/500] Train Acc: 0.742826 Loss: 0.777169\n",
            "[260/500] Train Acc: 0.742976 Loss: 0.776590\n",
            "[261/500] Train Acc: 0.743575 Loss: 0.776804\n",
            "[262/500] Train Acc: 0.742955 Loss: 0.776779\n",
            "[263/500] Train Acc: 0.743276 Loss: 0.776087\n",
            "[264/500] Train Acc: 0.743123 Loss: 0.776498\n",
            "[265/500] Train Acc: 0.742860 Loss: 0.776541\n",
            "[266/500] Train Acc: 0.743240 Loss: 0.776350\n",
            "[267/500] Train Acc: 0.743481 Loss: 0.775476\n",
            "[268/500] Train Acc: 0.743639 Loss: 0.775866\n",
            "[269/500] Train Acc: 0.743291 Loss: 0.776370\n",
            "[270/500] Train Acc: 0.743147 Loss: 0.775671\n",
            "[271/500] Train Acc: 0.743983 Loss: 0.775429\n",
            "[272/500] Train Acc: 0.743244 Loss: 0.776306\n",
            "[273/500] Train Acc: 0.743480 Loss: 0.776074\n",
            "[274/500] Train Acc: 0.743216 Loss: 0.776826\n",
            "[275/500] Train Acc: 0.743444 Loss: 0.776386\n",
            "[276/500] Train Acc: 0.743855 Loss: 0.775103\n",
            "[277/500] Train Acc: 0.743690 Loss: 0.775347\n",
            "[278/500] Train Acc: 0.743557 Loss: 0.775303\n",
            "[279/500] Train Acc: 0.743373 Loss: 0.776280\n",
            "[280/500] Train Acc: 0.743579 Loss: 0.775022\n",
            "[281/500] Train Acc: 0.744071 Loss: 0.774209\n",
            "[282/500] Train Acc: 0.743981 Loss: 0.774174\n",
            "[283/500] Train Acc: 0.743620 Loss: 0.775488\n",
            "[284/500] Train Acc: 0.743996 Loss: 0.774442\n",
            "[285/500] Train Acc: 0.743307 Loss: 0.775204\n",
            "[286/500] Train Acc: 0.743335 Loss: 0.775493\n",
            "[287/500] Train Acc: 0.743680 Loss: 0.774232\n",
            "[288/500] Train Acc: 0.743777 Loss: 0.773862\n",
            "[289/500] Train Acc: 0.743943 Loss: 0.775327\n",
            "[290/500] Train Acc: 0.743727 Loss: 0.775061\n",
            "[291/500] Train Acc: 0.743899 Loss: 0.774829\n",
            "[292/500] Train Acc: 0.743663 Loss: 0.774727\n",
            "[293/500] Train Acc: 0.744342 Loss: 0.774111\n",
            "[294/500] Train Acc: 0.743983 Loss: 0.774382\n",
            "[295/500] Train Acc: 0.743260 Loss: 0.775317\n",
            "[296/500] Train Acc: 0.743423 Loss: 0.774696\n",
            "[297/500] Train Acc: 0.744091 Loss: 0.772747\n",
            "[298/500] Train Acc: 0.744596 Loss: 0.774085\n",
            "[299/500] Train Acc: 0.744156 Loss: 0.773105\n",
            "[300/500] Train Acc: 0.743996 Loss: 0.773491\n",
            "[301/500] Train Acc: 0.743820 Loss: 0.774702\n",
            "[302/500] Train Acc: 0.743926 Loss: 0.773196\n",
            "[303/500] Train Acc: 0.743813 Loss: 0.773612\n",
            "[304/500] Train Acc: 0.744031 Loss: 0.774547\n",
            "[305/500] Train Acc: 0.743987 Loss: 0.773849\n",
            "[306/500] Train Acc: 0.744244 Loss: 0.773333\n",
            "[307/500] Train Acc: 0.744596 Loss: 0.772593\n",
            "[308/500] Train Acc: 0.744269 Loss: 0.773261\n",
            "[309/500] Train Acc: 0.744164 Loss: 0.772711\n",
            "[310/500] Train Acc: 0.744355 Loss: 0.772943\n",
            "[311/500] Train Acc: 0.744287 Loss: 0.774425\n",
            "[312/500] Train Acc: 0.744118 Loss: 0.773423\n",
            "[313/500] Train Acc: 0.744556 Loss: 0.772555\n",
            "[314/500] Train Acc: 0.744233 Loss: 0.773057\n",
            "[315/500] Train Acc: 0.744709 Loss: 0.772196\n",
            "[316/500] Train Acc: 0.744562 Loss: 0.772011\n",
            "[317/500] Train Acc: 0.744712 Loss: 0.772136\n",
            "[318/500] Train Acc: 0.744512 Loss: 0.771390\n",
            "[319/500] Train Acc: 0.743434 Loss: 0.772455\n",
            "[320/500] Train Acc: 0.745022 Loss: 0.772034\n",
            "[321/500] Train Acc: 0.744390 Loss: 0.772239\n",
            "[322/500] Train Acc: 0.744600 Loss: 0.771836\n",
            "[323/500] Train Acc: 0.744587 Loss: 0.771320\n",
            "[324/500] Train Acc: 0.744404 Loss: 0.771832\n",
            "[325/500] Train Acc: 0.745084 Loss: 0.770659\n",
            "[326/500] Train Acc: 0.745003 Loss: 0.770443\n",
            "[327/500] Train Acc: 0.744276 Loss: 0.772413\n",
            "[328/500] Train Acc: 0.744229 Loss: 0.771555\n",
            "[329/500] Train Acc: 0.744922 Loss: 0.770724\n",
            "[330/500] Train Acc: 0.744734 Loss: 0.770919\n",
            "[331/500] Train Acc: 0.745060 Loss: 0.771331\n",
            "[332/500] Train Acc: 0.744522 Loss: 0.771577\n",
            "[333/500] Train Acc: 0.744137 Loss: 0.771401\n",
            "[334/500] Train Acc: 0.744290 Loss: 0.771390\n",
            "[335/500] Train Acc: 0.744843 Loss: 0.770804\n",
            "[336/500] Train Acc: 0.744579 Loss: 0.771417\n",
            "[337/500] Train Acc: 0.744985 Loss: 0.771108\n",
            "[338/500] Train Acc: 0.744248 Loss: 0.772279\n",
            "[339/500] Train Acc: 0.744576 Loss: 0.771254\n",
            "[340/500] Train Acc: 0.744863 Loss: 0.770415\n",
            "[341/500] Train Acc: 0.744691 Loss: 0.770943\n",
            "[342/500] Train Acc: 0.745150 Loss: 0.770144\n",
            "[343/500] Train Acc: 0.745331 Loss: 0.769453\n",
            "[344/500] Train Acc: 0.744752 Loss: 0.770046\n",
            "[345/500] Train Acc: 0.745144 Loss: 0.769622\n",
            "[346/500] Train Acc: 0.744729 Loss: 0.770729\n",
            "[347/500] Train Acc: 0.745252 Loss: 0.769884\n",
            "[348/500] Train Acc: 0.744791 Loss: 0.769946\n",
            "[349/500] Train Acc: 0.745100 Loss: 0.769833\n",
            "[350/500] Train Acc: 0.744969 Loss: 0.770019\n",
            "[351/500] Train Acc: 0.745387 Loss: 0.769320\n",
            "[352/500] Train Acc: 0.745001 Loss: 0.769911\n",
            "[353/500] Train Acc: 0.744736 Loss: 0.769827\n",
            "[354/500] Train Acc: 0.745470 Loss: 0.768841\n",
            "[355/500] Train Acc: 0.745370 Loss: 0.768817\n",
            "[356/500] Train Acc: 0.745421 Loss: 0.768949\n",
            "[357/500] Train Acc: 0.745265 Loss: 0.769325\n",
            "[358/500] Train Acc: 0.745182 Loss: 0.769478\n",
            "[359/500] Train Acc: 0.745400 Loss: 0.768510\n",
            "[360/500] Train Acc: 0.744718 Loss: 0.769500\n",
            "[361/500] Train Acc: 0.745446 Loss: 0.768774\n",
            "[362/500] Train Acc: 0.745485 Loss: 0.768682\n",
            "[363/500] Train Acc: 0.744956 Loss: 0.768835\n",
            "[364/500] Train Acc: 0.745332 Loss: 0.768283\n",
            "[365/500] Train Acc: 0.745867 Loss: 0.767956\n",
            "[366/500] Train Acc: 0.744827 Loss: 0.768990\n",
            "[367/500] Train Acc: 0.745239 Loss: 0.768876\n",
            "[368/500] Train Acc: 0.745223 Loss: 0.768233\n",
            "[369/500] Train Acc: 0.745659 Loss: 0.768687\n",
            "[370/500] Train Acc: 0.745703 Loss: 0.768468\n",
            "[371/500] Train Acc: 0.745545 Loss: 0.768237\n",
            "[372/500] Train Acc: 0.745757 Loss: 0.767978\n",
            "[373/500] Train Acc: 0.745061 Loss: 0.768122\n",
            "[374/500] Train Acc: 0.745722 Loss: 0.767813\n",
            "[375/500] Train Acc: 0.746018 Loss: 0.767400\n",
            "[376/500] Train Acc: 0.745450 Loss: 0.767714\n",
            "[377/500] Train Acc: 0.745540 Loss: 0.767420\n",
            "[378/500] Train Acc: 0.745688 Loss: 0.767354\n",
            "[379/500] Train Acc: 0.745757 Loss: 0.768032\n",
            "[380/500] Train Acc: 0.745341 Loss: 0.767341\n",
            "[381/500] Train Acc: 0.745523 Loss: 0.768247\n",
            "[382/500] Train Acc: 0.745857 Loss: 0.767992\n",
            "[383/500] Train Acc: 0.746105 Loss: 0.766972\n",
            "[384/500] Train Acc: 0.745486 Loss: 0.767889\n",
            "[385/500] Train Acc: 0.746049 Loss: 0.766995\n",
            "[386/500] Train Acc: 0.745717 Loss: 0.767066\n",
            "[387/500] Train Acc: 0.745238 Loss: 0.767742\n",
            "[388/500] Train Acc: 0.745812 Loss: 0.766994\n",
            "[389/500] Train Acc: 0.745950 Loss: 0.766804\n",
            "[390/500] Train Acc: 0.745568 Loss: 0.767535\n",
            "[391/500] Train Acc: 0.746129 Loss: 0.766397\n",
            "[392/500] Train Acc: 0.746771 Loss: 0.765972\n",
            "[393/500] Train Acc: 0.746063 Loss: 0.766735\n",
            "[394/500] Train Acc: 0.746448 Loss: 0.765763\n",
            "[395/500] Train Acc: 0.746050 Loss: 0.766077\n",
            "[396/500] Train Acc: 0.746154 Loss: 0.766125\n",
            "[397/500] Train Acc: 0.745500 Loss: 0.766228\n",
            "[398/500] Train Acc: 0.746650 Loss: 0.765135\n",
            "[399/500] Train Acc: 0.745905 Loss: 0.765847\n",
            "[400/500] Train Acc: 0.745936 Loss: 0.766301\n",
            "[401/500] Train Acc: 0.746332 Loss: 0.765610\n",
            "[402/500] Train Acc: 0.745942 Loss: 0.766388\n",
            "[403/500] Train Acc: 0.746007 Loss: 0.766257\n",
            "[404/500] Train Acc: 0.746103 Loss: 0.766065\n",
            "[405/500] Train Acc: 0.746690 Loss: 0.764635\n",
            "[406/500] Train Acc: 0.746073 Loss: 0.766228\n",
            "[407/500] Train Acc: 0.745918 Loss: 0.764990\n",
            "[408/500] Train Acc: 0.746211 Loss: 0.765396\n",
            "[409/500] Train Acc: 0.746375 Loss: 0.766003\n",
            "[410/500] Train Acc: 0.745600 Loss: 0.765997\n",
            "[411/500] Train Acc: 0.745909 Loss: 0.766503\n",
            "[412/500] Train Acc: 0.746815 Loss: 0.764874\n",
            "[413/500] Train Acc: 0.746258 Loss: 0.765287\n",
            "[414/500] Train Acc: 0.746645 Loss: 0.764840\n",
            "[415/500] Train Acc: 0.746282 Loss: 0.765168\n",
            "[416/500] Train Acc: 0.746113 Loss: 0.765457\n",
            "[417/500] Train Acc: 0.746608 Loss: 0.764449\n",
            "[418/500] Train Acc: 0.746206 Loss: 0.765090\n",
            "[419/500] Train Acc: 0.746783 Loss: 0.764905\n",
            "[420/500] Train Acc: 0.746295 Loss: 0.765460\n",
            "[421/500] Train Acc: 0.746566 Loss: 0.764772\n",
            "[422/500] Train Acc: 0.746651 Loss: 0.764008\n",
            "[423/500] Train Acc: 0.746706 Loss: 0.764465\n",
            "[424/500] Train Acc: 0.746669 Loss: 0.764679\n",
            "[425/500] Train Acc: 0.746242 Loss: 0.764940\n",
            "[426/500] Train Acc: 0.746594 Loss: 0.764573\n",
            "[427/500] Train Acc: 0.746937 Loss: 0.763848\n",
            "[428/500] Train Acc: 0.746238 Loss: 0.764272\n",
            "[429/500] Train Acc: 0.746527 Loss: 0.764248\n",
            "[430/500] Train Acc: 0.746207 Loss: 0.763632\n",
            "[431/500] Train Acc: 0.746161 Loss: 0.764712\n",
            "[432/500] Train Acc: 0.746464 Loss: 0.765003\n",
            "[433/500] Train Acc: 0.746553 Loss: 0.763664\n",
            "[434/500] Train Acc: 0.746651 Loss: 0.763995\n",
            "[435/500] Train Acc: 0.746351 Loss: 0.764638\n",
            "[436/500] Train Acc: 0.746396 Loss: 0.764196\n",
            "[437/500] Train Acc: 0.746522 Loss: 0.764734\n",
            "[438/500] Train Acc: 0.746655 Loss: 0.764169\n",
            "[439/500] Train Acc: 0.746652 Loss: 0.763550\n",
            "[440/500] Train Acc: 0.747820 Loss: 0.763073\n",
            "[441/500] Train Acc: 0.746985 Loss: 0.763276\n",
            "[442/500] Train Acc: 0.747209 Loss: 0.763007\n",
            "[443/500] Train Acc: 0.746625 Loss: 0.762928\n",
            "[444/500] Train Acc: 0.746958 Loss: 0.763409\n",
            "[445/500] Train Acc: 0.746831 Loss: 0.762749\n",
            "[446/500] Train Acc: 0.747296 Loss: 0.763326\n",
            "[447/500] Train Acc: 0.747013 Loss: 0.762573\n",
            "[448/500] Train Acc: 0.746602 Loss: 0.763263\n",
            "[449/500] Train Acc: 0.746480 Loss: 0.763436\n",
            "[450/500] Train Acc: 0.746806 Loss: 0.764643\n",
            "[451/500] Train Acc: 0.746973 Loss: 0.762729\n",
            "[452/500] Train Acc: 0.746764 Loss: 0.762720\n",
            "[453/500] Train Acc: 0.747197 Loss: 0.761996\n",
            "[454/500] Train Acc: 0.747194 Loss: 0.763411\n",
            "[455/500] Train Acc: 0.746637 Loss: 0.762662\n",
            "[456/500] Train Acc: 0.747094 Loss: 0.762021\n",
            "[457/500] Train Acc: 0.746498 Loss: 0.762926\n",
            "[458/500] Train Acc: 0.747318 Loss: 0.761542\n",
            "[459/500] Train Acc: 0.747419 Loss: 0.761679\n",
            "[460/500] Train Acc: 0.746949 Loss: 0.763349\n",
            "[461/500] Train Acc: 0.747497 Loss: 0.761508\n",
            "[462/500] Train Acc: 0.746927 Loss: 0.762479\n",
            "[463/500] Train Acc: 0.747042 Loss: 0.761766\n",
            "[464/500] Train Acc: 0.747345 Loss: 0.761708\n",
            "[465/500] Train Acc: 0.747320 Loss: 0.761646\n",
            "[466/500] Train Acc: 0.747280 Loss: 0.762169\n",
            "[467/500] Train Acc: 0.747469 Loss: 0.761124\n",
            "[468/500] Train Acc: 0.746850 Loss: 0.762163\n",
            "[469/500] Train Acc: 0.747229 Loss: 0.761839\n",
            "[470/500] Train Acc: 0.747361 Loss: 0.761169\n",
            "[471/500] Train Acc: 0.747330 Loss: 0.761305\n",
            "[472/500] Train Acc: 0.747456 Loss: 0.761317\n",
            "[473/500] Train Acc: 0.747380 Loss: 0.761368\n",
            "[474/500] Train Acc: 0.747462 Loss: 0.761251\n",
            "[475/500] Train Acc: 0.747673 Loss: 0.760309\n",
            "[476/500] Train Acc: 0.747213 Loss: 0.762519\n",
            "[477/500] Train Acc: 0.747797 Loss: 0.760427\n",
            "[478/500] Train Acc: 0.747624 Loss: 0.761199\n",
            "[479/500] Train Acc: 0.747423 Loss: 0.761375\n",
            "[480/500] Train Acc: 0.747200 Loss: 0.761159\n",
            "[481/500] Train Acc: 0.747584 Loss: 0.761165\n",
            "[482/500] Train Acc: 0.747637 Loss: 0.760865\n",
            "[483/500] Train Acc: 0.747707 Loss: 0.760236\n",
            "[484/500] Train Acc: 0.747968 Loss: 0.759352\n",
            "[485/500] Train Acc: 0.747549 Loss: 0.761344\n",
            "[486/500] Train Acc: 0.747475 Loss: 0.760743\n",
            "[487/500] Train Acc: 0.747858 Loss: 0.759423\n",
            "[488/500] Train Acc: 0.747334 Loss: 0.761489\n",
            "[489/500] Train Acc: 0.747613 Loss: 0.760227\n",
            "[490/500] Train Acc: 0.747875 Loss: 0.759944\n",
            "[491/500] Train Acc: 0.747597 Loss: 0.760237\n",
            "[492/500] Train Acc: 0.747675 Loss: 0.759829\n",
            "[493/500] Train Acc: 0.747375 Loss: 0.760692\n",
            "[494/500] Train Acc: 0.748087 Loss: 0.759281\n",
            "[495/500] Train Acc: 0.747432 Loss: 0.760699\n",
            "[496/500] Train Acc: 0.747383 Loss: 0.760262\n",
            "[497/500] Train Acc: 0.747381 Loss: 0.760339\n",
            "[498/500] Train Acc: 0.747514 Loss: 0.760653\n",
            "[499/500] Train Acc: 0.747546 Loss: 0.759528\n",
            "[500/500] Train Acc: 0.747753 Loss: 0.760065\n",
            "saving model at last epoch\n"
          ]
        }
      ],
      "source": [
        "# start training\n",
        "\n",
        "best_acc = 0.0\n",
        "Total_loss = []\n",
        "Total_acc = []\n",
        "for epoch in range(num_epoch):\n",
        "    if epoch == 0:\n",
        "            optimizer = torch.optim.Adam(model.parameters(), lr=learning_rate)\n",
        "    elif epoch == 35:\n",
        "            optimizer = torch.optim.SGD(model.parameters(), lr=learning_rate, momentum=0.9)\n",
        "    train_acc = 0.0\n",
        "    train_loss = 0.0\n",
        "    val_acc = 0.0\n",
        "    val_loss = 0.0\n",
        "\n",
        "    # training\n",
        "    model.train() # set the model to training mode\n",
        "    for i, data in enumerate(train_loader):\n",
        "        inputs, labels = data\n",
        "        inputs, labels = inputs.to(device), labels.to(device)\n",
        "        optimizer.zero_grad() \n",
        "        outputs = model(inputs) \n",
        "        batch_loss = criterion(outputs, labels)\n",
        "        _, train_pred = torch.max(outputs, 1) # get the index of the class with the highest probability\n",
        "        batch_loss.backward() \n",
        "        optimizer.step() \n",
        "\n",
        "        train_acc += (train_pred.cpu() == labels.cpu()).sum().item()\n",
        "        train_loss += batch_loss.item()\n",
        "\n",
        "    # validation\n",
        "    if len(val_set) > 0:\n",
        "        model.eval() # set the model to evaluation mode\n",
        "        with torch.no_grad():\n",
        "            for i, data in enumerate(val_loader):\n",
        "                inputs, labels = data\n",
        "                inputs, labels = inputs.to(device), labels.to(device)\n",
        "                outputs = model(inputs)\n",
        "                batch_loss = criterion(outputs, labels) \n",
        "                _, val_pred = torch.max(outputs, 1) \n",
        "            \n",
        "                val_acc += (val_pred.cpu() == labels.cpu()).sum().item() # get the index of the class with the highest probability\n",
        "                val_loss += batch_loss.item()\n",
        "\n",
        "            print('[{:03d}/{:03d}] Train Acc: {:3.6f} Loss: {:3.6f} | Val Acc: {:3.6f} loss: {:3.6f}'.format(\n",
        "                epoch + 1, num_epoch, train_acc/len(train_set), train_loss/len(train_loader), val_acc/len(val_set), val_loss/len(val_loader)\n",
        "            ))\n",
        "\n",
        "            # if the model improves, save a checkpoint at this epoch\n",
        "            if val_acc > best_acc:\n",
        "                best_acc = val_acc\n",
        "                torch.save(model.state_dict(), model_path)\n",
        "                print('saving model with acc {:.3f}'.format(best_acc/len(val_set)))\n",
        "    else:\n",
        "        Total_acc.append(train_acc/len(train_set))\n",
        "        Total_loss.append(train_loss/len(train_loader))\n",
        "        print('[{:03d}/{:03d}] Train Acc: {:3.6f} Loss: {:3.6f}'.format(\n",
        "            epoch + 1, num_epoch, train_acc/len(train_set), train_loss/len(train_loader)\n",
        "        ))\n",
        "\n",
        "# if not validating, save the last epoch\n",
        "if len(val_set) == 0:\n",
        "    torch.save(model.state_dict(), model_path)\n",
        "    print('saving model at last epoch')\n"
      ]
    },
    {
      "cell_type": "code",
      "execution_count": 31,
      "metadata": {
        "id": "TNWz1L3RweQ8",
        "colab": {
          "base_uri": "https://localhost:8080/",
          "height": 350
        },
        "outputId": "598c7bd1-475d-40d8-f88f-6d26d1a1fe53"
      },
      "outputs": [
        {
          "output_type": "display_data",
          "data": {
            "text/plain": [
              "<Figure size 720x360 with 1 Axes>"
            ],
            "image/png": "[encoded data removed]"
          },
          "metadata": {
            "needs_background": "light"
          }
        }
      ],
      "source": [
        "plt.figure(figsize=(10,5))\n",
        "plt.title(\"Training Loss\")\n",
        "plt.plot(Total_loss)\n",
        "plt.xlabel(\"iterations\")\n",
        "plt.ylabel(\"Loss\")\n",
        "# plt.legend()\n",
        "plt.show()"
      ]
    },
    {
      "cell_type": "code",
      "execution_count": 32,
      "metadata": {
        "id": "dnM9d0sswe7C",
        "colab": {
          "base_uri": "https://localhost:8080/",
          "height": 350
        },
        "outputId": "e3eb13df-5e23-46b0-a249-79c6312ec1ea"
      },
      "outputs": [
        {
          "output_type": "display_data",
          "data": {
            "text/plain": [
              "<Figure size 720x360 with 1 Axes>"
            ],
            "image/png": "[encoded data removed]"
          },
          "metadata": {
            "needs_background": "light"
          }
        }
      ],
      "source": [
        "plt.figure(figsize=(10,5))\n",
        "plt.title(\"Training accuracy\")\n",
        "plt.plot(Total_acc)\n",
        "plt.xlabel(\"iterations\")\n",
        "plt.ylabel(\"accuracy\")\n",
        "# plt.legend()\n",
        "plt.show()"
      ]
    },
    {
      "cell_type": "markdown",
      "metadata": {
        "id": "1Hi7jTn3PX-m"
      },
      "source": [
        "## Testing"
      ]
    },
    {
      "cell_type": "markdown",
      "metadata": {
        "id": "NfUECMFCn5VG"
      },
      "source": [
        "Create a testing dataset, and load model from the saved checkpoint."
      ]
    },
    {
      "cell_type": "code",
      "execution_count": 33,
      "metadata": {
        "id": "QDbv5ysTepyl"
      },
      "outputs": [],
      "source": [
        "!cp -r \"/content/CNNmodel_2.ckpt\" \"/content/drive/MyDrive/\"\n",
        "from google.colab import files\n",
        "# files.download(\"CNNmodel_500.ckpt\")"
      ]
    },
    {
      "cell_type": "code",
      "execution_count": 34,
      "metadata": {
        "id": "1PKjtAScPWtr",
        "colab": {
          "base_uri": "https://localhost:8080/"
        },
        "outputId": "d2cca22b-cf12-49d2-db01-6c108a234f2f"
      },
      "outputs": [
        {
          "output_type": "execute_result",
          "data": {
            "text/plain": [
              "<All keys matched successfully>"
            ]
          },
          "metadata": {},
          "execution_count": 34
        }
      ],
      "source": [
        "# create testing dataset\n",
        "test_set = TIMITDataset(test, None)\n",
        "test_loader = DataLoader(test_set, batch_size=BATCH_SIZE, shuffle=False)\n",
        "\n",
        "# create model and load weights from checkpoint\n",
        "model = Classifier().to(device)\n",
        "model.load_state_dict(torch.load(model_path))"
      ]
    },
    {
      "cell_type": "markdown",
      "metadata": {
        "id": "940TtCCdoYd0"
      },
      "source": [
        "Make prediction."
      ]
    },
    {
      "cell_type": "code",
      "execution_count": 35,
      "metadata": {
        "id": "84HU5GGjPqR0"
      },
      "outputs": [],
      "source": [
        "predict = []\n",
        "model.eval() # set the model to evaluation mode\n",
        "with torch.no_grad():\n",
        "    for i, data in enumerate(test_loader):\n",
        "        inputs = data\n",
        "        inputs = inputs.to(device)\n",
        "        outputs = model(inputs)\n",
        "        _, test_pred = torch.max(outputs, 1) # get the index of the class with the highest probability\n",
        "\n",
        "        for y in test_pred.cpu().numpy():\n",
        "            predict.append(y)"
      ]
    },
    {
      "cell_type": "code",
      "execution_count": null,
      "metadata": {
        "id": "oCxMZjK0sR2R"
      },
      "outputs": [],
      "source": [
        "count = 0\n",
        "for i in range(1, len(predict)-1):\n",
        "    step = 1\n",
        "    previous_ = predict[i-step]\n",
        "    next_ = predict[i+step]\n",
        "    current_ = predict[i]\n",
        "    if (previous_ != current_) and (next_ != current_) and (previous_ == next_):\n",
        "        print('idx',i,'correct', current_, 'to', previous_)\n",
        "        predict[i] = previous_\n",
        "        count +=1\n",
        "\n",
        "print('total number of correction %d, correction percent %.2f'% (count, count/len(predict)))\n",
        "\n",
        "for i in range(1, len(predict)-1):\n",
        "    step = 2\n",
        "    if i == 1 or i == len(predict)-2: step = 1\n",
        "    previous_ = predict[i-step]\n",
        "    next_ = predict[i+step]\n",
        "    current_ = predict[i]\n",
        "    if (previous_ != current_) and (next_ != current_) and (previous_ == next_):\n",
        "        print('idx',i,'correct', current_, 'to', previous_)\n",
        "        predict[i] = previous_\n",
        "        count +=1\n",
        "\n",
        "print('total number of correction %d, correction percent %.2f'% (count, count/len(predict)))\n",
        "\n"
      ]
    },
    {
      "cell_type": "markdown",
      "metadata": {
        "id": "AWDf_C-omElb"
      },
      "source": [
        "Write prediction to a CSV file.\n",
        "\n",
        "After finish running this block, download the file `prediction.csv` from the files section on the left-hand side and submit it to Kaggle."
      ]
    },
    {
      "cell_type": "code",
      "execution_count": 37,
      "metadata": {
        "id": "GuljYSPHcZir"
      },
      "outputs": [],
      "source": [
        "with open('predictionCNN_2.csv', 'w') as f:\n",
        "    f.write('Id,Class\\n')\n",
        "    for i, y in enumerate(predict):\n",
        "        f.write('{},{}\\n'.format(i, y))"
      ]
    },
    {
      "cell_type": "code",
      "execution_count": 38,
      "metadata": {
        "id": "u6-drq6V8cBJ",
        "colab": {
          "base_uri": "https://localhost:8080/"
        },
        "outputId": "a9cdf5be-8665-49d4-f85d-a229dce6f859"
      },
      "outputs": [
        {
          "metadata": {
            "tags": null
          },
          "name": "stdout",
          "output_type": "stream",
          "text": [
            "/bin/bash: -c: line 0: syntax error near unexpected token `('\n",
            "/bin/bash: -c: line 0: `cp -r \"/content/predictionCNN_2.csv\" \"/content/drive/MyDrive/\"files.download(\"predictionCNN_500.csv\")'\n",
            "cp: cannot stat '/content/accuracy.png': No such file or directory\n",
            "cp: cannot stat \"/content/loss.png'\": No such file or directory\n"
          ]
        }
      ],
      "source": [
        "!cp -r \"/content/predictionCNN_2.csv\" \"/content/drive/MyDrive/\"\\\n",
        "files.download(\"predictionCNN_500.csv\")\n",
        "!cp -r \"/content/accuracy.png\" \"/content/drive/MyDrive/\"\n",
        "!cp -r \"/content/loss.png'\" \"/content/drive/MyDrive/\""
      ]
    }
  ],
  "metadata": {
    "accelerator": "GPU",
    "colab": {
      "background_execution": "on",
      "collapsed_sections": [],
      "machine_shape": "hm",
      "name": "CNN_(1) (4).ipynb",
      "provenance": [],
      "include_colab_link": true
    },
    "kernelspec": {
      "display_name": "Python 3",
      "name": "python3"
    }
  },
  "nbformat": 4,
  "nbformat_minor": 0
}