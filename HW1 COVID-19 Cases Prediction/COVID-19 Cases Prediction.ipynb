{
  "nbformat": 4,
  "nbformat_minor": 0,
  "metadata": {
    "colab": {
      "name": "ML2021Spring - HW1.ipynb",
      "provenance": [],
      "collapsed_sections": []
    },
    "kernelspec": {
      "name": "python3",
      "display_name": "Python 3"
    },
    "accelerator": "GPU"
  },
  "cells": [
    {
      "cell_type": "markdown",
      "metadata": {
        "id": "mz0_QVkxCrX3"
      },
      "source": [
        "# **Homework 1: COVID-19 Cases Prediction (Regression)**"
      ]
    },
    {
      "cell_type": "markdown",
      "metadata": {
        "id": "ZeZnPAiwDRWG"
      },
      "source": [
        "Author: Heng-Jui Chang\n",
        "\n",
        "Slides: https://github.com/ga642381/ML2021-Spring/blob/main/HW01/HW01.pdf  \n",
        "Videos (Mandarin): https://cool.ntu.edu.tw/courses/4793/modules/items/172854  \n",
        "https://cool.ntu.edu.tw/courses/4793/modules/items/172853  \n",
        "Video (English): https://cool.ntu.edu.tw/courses/4793/modules/items/176529\n",
        "\n",
        "\n",
        "Objectives:\n",
        "* Solve a regression problem with deep neural networks (DNN).\n",
        "* Understand basic DNN training tips.\n",
        "* Get familiar with PyTorch.\n",
        "\n",
        "If any questions, please contact the TAs via TA hours, NTU COOL, or email.\n"
      ]
    },
    {
      "cell_type": "markdown",
      "metadata": {
        "id": "Jx3x1nDkG-Uy"
      },
      "source": [
        "# **Download Data**\n",
        "\n",
        "\n",
        "If the Google drive links are dead, you can download data from [kaggle](https://www.kaggle.com/c/ml2021spring-hw1/data), and upload data manually to the workspace."
      ]
    },
    {
      "cell_type": "code",
      "metadata": {
        "colab": {
          "base_uri": "https://localhost:8080/"
        },
        "id": "tMj55YDKG6ch",
        "outputId": "472bf802-d4fb-45c0-f93c-bc212f5ee9c7"
      },
      "source": [
        "tr_path = 'covid.train.csv'  # path to training data\n",
        "tt_path = 'covid.test.csv'   # path to testing data\n",
        "\n",
        "!gdown --id '19CCyCgJrUxtvgZF53vnctJiOJ23T5mqF' --output covid.train.csv\n",
        "!gdown --id '1CE240jLm2npU-tdz81-oVKEF3T2yfT1O' --output covid.test.csv"
      ],
      "execution_count": 167,
      "outputs": [
        {
          "output_type": "stream",
          "name": "stdout",
          "text": [
            "Downloading...\n",
            "From: https://drive.google.com/uc?id=19CCyCgJrUxtvgZF53vnctJiOJ23T5mqF\n",
            "To: /content/covid.train.csv\n",
            "100% 2.00M/2.00M [00:00<00:00, 58.5MB/s]\n",
            "Downloading...\n",
            "From: https://drive.google.com/uc?id=1CE240jLm2npU-tdz81-oVKEF3T2yfT1O\n",
            "To: /content/covid.test.csv\n",
            "100% 651k/651k [00:00<00:00, 147MB/s]\n"
          ]
        }
      ]
    },
    {
      "cell_type": "markdown",
      "metadata": {
        "id": "wS_4-77xHk44"
      },
      "source": [
        "# **Import Some Packages**"
      ]
    },
    {
      "cell_type": "code",
      "metadata": {
        "id": "k-onQd4JNA5H"
      },
      "source": [
        "# PyTorch\n",
        "import torch\n",
        "import torch.nn as nn\n",
        "from torch.utils.data import Dataset, DataLoader\n",
        "\n",
        "# For data preprocess\n",
        "import numpy as np\n",
        "import csv\n",
        "import os\n",
        "\n",
        "# For plotting\n",
        "import matplotlib.pyplot as plt\n",
        "from matplotlib.pyplot import figure\n",
        "\n",
        "myseed = 42069  # set a random seed for reproducibility\n",
        "torch.backends.cudnn.deterministic = True\n",
        "torch.backends.cudnn.benchmark = False\n",
        "np.random.seed(myseed)\n",
        "torch.manual_seed(myseed)\n",
        "if torch.cuda.is_available():\n",
        "    torch.cuda.manual_seed_all(myseed)"
      ],
      "execution_count": 168,
      "outputs": []
    },
    {
      "cell_type": "markdown",
      "source": [
        "# Check the high correlation features"
      ],
      "metadata": {
        "id": "cKaW-c1KuRMf"
      }
    },
    {
      "cell_type": "code",
      "source": [
        "import pandas as pd\n",
        "df = pd.read_csv(tr_path)\n",
        "cor = df.corr()['tested_positive.2']\n",
        "best_cor = cor[cor>0.5]\n",
        "best_cor.index"
      ],
      "metadata": {
        "colab": {
          "base_uri": "https://localhost:8080/"
        },
        "id": "Ya86hropr_Ya",
        "outputId": "b8fb8fca-1d0e-437c-887e-20238482d5c5"
      },
      "execution_count": 169,
      "outputs": [
        {
          "output_type": "execute_result",
          "data": {
            "text/plain": [
              "Index(['cli', 'ili', 'hh_cmnty_cli', 'nohh_cmnty_cli', 'tested_positive',\n",
              "       'cli.1', 'ili.1', 'hh_cmnty_cli.1', 'nohh_cmnty_cli.1',\n",
              "       'tested_positive.1', 'cli.2', 'ili.2', 'hh_cmnty_cli.2',\n",
              "       'nohh_cmnty_cli.2', 'tested_positive.2'],\n",
              "      dtype='object')"
            ]
          },
          "metadata": {},
          "execution_count": 169
        }
      ]
    },
    {
      "cell_type": "markdown",
      "metadata": {
        "id": "BtE3b6JEH7rw"
      },
      "source": [
        "# **Some Utilities**\n",
        "\n",
        "You do not need to modify this part."
      ]
    },
    {
      "cell_type": "code",
      "metadata": {
        "id": "FWMT3uf1NGQp"
      },
      "source": [
        "def get_device():\n",
        "    ''' Get device (if GPU is available, use GPU) '''\n",
        "    return 'cuda' if torch.cuda.is_available() else 'cpu'\n",
        "\n",
        "def plot_learning_curve(loss_record, title=''):\n",
        "    ''' Plot learning curve of your DNN (train & dev loss) '''\n",
        "    total_steps = len(loss_record['train'])\n",
        "    x_1 = range(total_steps)\n",
        "    x_2 = x_1[::len(loss_record['train']) // len(loss_record['dev'])]\n",
        "    figure(figsize=(6, 4))\n",
        "    plt.plot(x_1, loss_record['train'], c='tab:red', label='train')\n",
        "    plt.plot(x_2, loss_record['dev'], c='tab:cyan', label='dev')\n",
        "    plt.ylim(0.0, 5.)\n",
        "    plt.xlabel('Training steps')\n",
        "    plt.ylabel('MSE loss')\n",
        "    plt.title('Learning curve of {}'.format(title))\n",
        "    plt.legend()\n",
        "    plt.show()\n",
        "\n",
        "\n",
        "def plot_pred(dv_set, model, device, lim=35., preds=None, targets=None):\n",
        "    ''' Plot prediction of your DNN '''\n",
        "    if preds is None or targets is None:\n",
        "        model.eval()\n",
        "        preds, targets = [], []\n",
        "        for x, y in dv_set:\n",
        "            x, y = x.to(device), y.to(device)\n",
        "            with torch.no_grad():\n",
        "                pred = model(x)\n",
        "                preds.append(pred.detach().cpu())\n",
        "                targets.append(y.detach().cpu())\n",
        "        preds = torch.cat(preds, dim=0).numpy()\n",
        "        targets = torch.cat(targets, dim=0).numpy()\n",
        "\n",
        "    figure(figsize=(5, 5))\n",
        "    plt.scatter(targets, preds, c='r', alpha=0.5)\n",
        "    plt.plot([-0.2, lim], [-0.2, lim], c='b')\n",
        "    plt.xlim(-0.2, lim)\n",
        "    plt.ylim(-0.2, lim)\n",
        "    plt.xlabel('ground truth value')\n",
        "    plt.ylabel('predicted value')\n",
        "    plt.title('Ground Truth v.s. Prediction')\n",
        "    plt.show()"
      ],
      "execution_count": 170,
      "outputs": []
    },
    {
      "cell_type": "markdown",
      "metadata": {
        "id": "39U_XFX6KOoj"
      },
      "source": [
        "# **Preprocess**\n",
        "\n",
        "We have three kinds of datasets:\n",
        "* `train`: for training\n",
        "* `dev`: for validation\n",
        "* `test`: for testing (w/o target value)"
      ]
    },
    {
      "cell_type": "markdown",
      "metadata": {
        "id": "TQ-MdwpLL7Dt"
      },
      "source": [
        "## **Dataset**\n",
        "\n",
        "The `COVID19Dataset` below does:\n",
        "* read `.csv` files\n",
        "* extract features\n",
        "* split `covid.train.csv` into train/dev sets\n",
        "* normalize features\n",
        "\n",
        "Finishing `TODO` below might make you pass medium baseline."
      ]
    },
    {
      "cell_type": "code",
      "metadata": {
        "id": "0zlpIp9ANJRU"
      },
      "source": [
        "class COVID19Dataset(Dataset):\n",
        "    ''' Dataset for loading and preprocessing the COVID19 dataset '''\n",
        "    def __init__(self,\n",
        "                 path,\n",
        "                 mode='train',\n",
        "                 target_only=False):\n",
        "        self.mode = mode\n",
        "\n",
        "        # Read data into numpy arrays\n",
        "        with open(path, 'r') as fp:\n",
        "            data = list(csv.reader(fp))\n",
        "            data = np.array(data[1:])[:, 1:].astype(float)\n",
        "        \n",
        "        if not target_only:\n",
        "            feats = list(range(93))\n",
        "        else:\n",
        "            # TODO: Using 40 states & 2 tested_positive features (indices = 57 & 75)\n",
        "            # feats = list(range(40))\n",
        "            Day1 = [40,41,42,43,57]\n",
        "            Day2 = [i+18 for i in Day1]\n",
        "            Day3 = [i+18 for i in Day2 if i+18 < 92]\n",
        "            feats = Day1 + Day2 + Day3\n",
        "            # feats.extend(extra)\n",
        "            pass\n",
        "\n",
        "        if mode == 'test':\n",
        "            # Testing data\n",
        "            # data: 893 x 93 (40 states + day 1 (18) + day 2 (18) + day 3 (17))\n",
        "            data = data[:, feats]\n",
        "            self.data = torch.FloatTensor(data)\n",
        "        else:\n",
        "            # Training data (train/dev sets)\n",
        "            # data: 2700 x 94 (40 states + day 1 (18) + day 2 (18) + day 3 (18))\n",
        "            target = data[:, -1]\n",
        "            data = data[:, feats]\n",
        "            \n",
        "            # Splitting training data into train & dev sets\n",
        "            if mode == 'train':\n",
        "                # indices = [i for i in range(len(data)) if i % 10 != 0]\n",
        "                indices = range(len(data))\n",
        "            elif mode == 'dev':\n",
        "                indices = [i for i in range(len(data)) if i % 10 == 0]\n",
        "            \n",
        "            # Convert data into PyTorch tensors\n",
        "            self.data = torch.FloatTensor(data[indices])\n",
        "            self.target = torch.FloatTensor(target[indices])\n",
        "\n",
        "        # Normalize features (you may remove this part to see what will happen)\n",
        "        # self.data[:, 40:] = \\\n",
        "        #     (self.data[:, 40:] - self.data[:, 40:].mean(dim=0, keepdim=True)) \\\n",
        "        #     / self.data[:, 40:].std(dim=0, keepdim=True)\n",
        "\n",
        "        self.dim = self.data.shape[1]\n",
        "\n",
        "        print('Finished reading the {} set of COVID19 Dataset ({} samples found, each dim = {})'\n",
        "              .format(mode, len(self.data), self.dim))\n",
        "\n",
        "    def __getitem__(self, index):\n",
        "        # Returns one sample at a time\n",
        "        if self.mode in ['train', 'dev']:\n",
        "            # For training\n",
        "            return self.data[index], self.target[index]\n",
        "        else:\n",
        "            # For testing (no target)\n",
        "            return self.data[index]\n",
        "\n",
        "    def __len__(self):\n",
        "        # Returns the size of the dataset\n",
        "        return len(self.data)"
      ],
      "execution_count": 171,
      "outputs": []
    },
    {
      "cell_type": "markdown",
      "metadata": {
        "id": "AlhTlkE7MDo3"
      },
      "source": [
        "## **DataLoader**\n",
        "\n",
        "A `DataLoader` loads data from a given `Dataset` into batches.\n"
      ]
    },
    {
      "cell_type": "code",
      "metadata": {
        "id": "hlhLk5t6MBX3"
      },
      "source": [
        "def prep_dataloader(path, mode, batch_size, n_jobs=0, target_only=False):\n",
        "    ''' Generates a dataset, then is put into a dataloader. '''\n",
        "    dataset = COVID19Dataset(path, mode=mode, target_only=target_only)  # Construct dataset\n",
        "    dataloader = DataLoader(\n",
        "        dataset, batch_size,\n",
        "        shuffle=(mode == 'train'), drop_last=False,\n",
        "        num_workers=n_jobs, pin_memory=True)                            # Construct dataloader\n",
        "    return dataloader"
      ],
      "execution_count": 172,
      "outputs": []
    },
    {
      "cell_type": "markdown",
      "metadata": {
        "id": "SGuycwR0MeQB"
      },
      "source": [
        "# **Deep Neural Network**\n",
        "\n",
        "`NeuralNet` is an `nn.Module` designed for regression.\n",
        "The DNN consists of 2 fully-connected layers with ReLU activation.\n",
        "This module also included a function `cal_loss` for calculating loss.\n"
      ]
    },
    {
      "cell_type": "code",
      "metadata": {
        "id": "49-uXYovOAI0"
      },
      "source": [
        "class NeuralNet(nn.Module):\n",
        "    ''' A simple fully-connected deep neural network '''\n",
        "    def __init__(self, input_dim):\n",
        "        super(NeuralNet, self).__init__()\n",
        "\n",
        "        # Define your neural network here\n",
        "        # TODO: How to modify this model to achieve better performance?\n",
        "        self.net = nn.Sequential(\n",
        "            nn.Linear(input_dim, 64),\n",
        "            nn.LeakyReLU(),\n",
        "            nn.Linear(64, 1)\n",
        "        )\n",
        "\n",
        "        # Mean squared error loss\n",
        "        self.criterion = nn.MSELoss(reduction='mean')\n",
        "\n",
        "    def forward(self, x):\n",
        "        ''' Given input of size (batch_size x input_dim), compute output of the network '''\n",
        "        return self.net(x).squeeze(1)\n",
        "\n",
        "    def cal_loss(self, pred, target, l1_lambda):\n",
        "        ''' Calculate loss '''\n",
        "        # TODO: you may implement L2 regularization here\n",
        "        # loss = self.criterion(pred, target) \n",
        "        \n",
        "        # # L1 regularization\n",
        "        # l1_reg = torch.tensor(0.).to(device)\n",
        "        # for param in model.parameters():\n",
        "        #     l1_reg += torch.sum(torch.abs(param))\n",
        "        # loss += l1_lambda * l1_reg\n",
        "        \n",
        "        return self.criterion(pred, target)"
      ],
      "execution_count": 173,
      "outputs": []
    },
    {
      "cell_type": "markdown",
      "metadata": {
        "id": "DvFWVjZ5Nvga"
      },
      "source": [
        "# **Train/Dev/Test**"
      ]
    },
    {
      "cell_type": "markdown",
      "metadata": {
        "id": "MAM8QecJOyqn"
      },
      "source": [
        "## **Training**"
      ]
    },
    {
      "cell_type": "code",
      "metadata": {
        "id": "lOqcmYzMO7jB"
      },
      "source": [
        "def train(tr_set, dv_set, model, config, device):\n",
        "    ''' DNN training '''\n",
        "\n",
        "    n_epochs = config['n_epochs']  # Maximum number of epochs\n",
        "\n",
        "    # Setup optimizer\n",
        "    optimizer = getattr(torch.optim, config['optimizer'])(\n",
        "        model.parameters(), **config['optim_hparas'])\n",
        "\n",
        "    min_mse = 1000.\n",
        "    loss_record = {'train': [], 'dev': []}      # for recording training loss\n",
        "    early_stop_cnt = 0\n",
        "    epoch = 0\n",
        "    while epoch < n_epochs:\n",
        "        model.train()                           # set model to training mode\n",
        "        for x, y in tr_set:                     # iterate through the dataloader\n",
        "            optimizer.zero_grad()               # set gradient to zero\n",
        "            x, y = x.to(device), y.to(device)   # move data to device (cpu/cuda)\n",
        "            pred = model(x)                     # forward pass (compute output)\n",
        "            mse_loss = model.cal_loss(pred, y, 1e-5)  # compute loss\n",
        "            mse_loss.backward()                 # compute gradient (backpropagation)\n",
        "            optimizer.step()                    # update model with optimizer\n",
        "            loss_record['train'].append(mse_loss.detach().cpu().item())\n",
        "\n",
        "        # After each epoch, test your model on the validation (development) set.\n",
        "        dev_mse = dev(dv_set, model, device)\n",
        "        if dev_mse < min_mse:\n",
        "            # Save model if your model improved\n",
        "            min_mse = dev_mse\n",
        "            print('Saving model (epoch = {:4d}, loss = {:.4f})'\n",
        "                .format(epoch + 1, min_mse))\n",
        "            torch.save(model.state_dict(), config['save_path'])  # Save model to specified path\n",
        "            early_stop_cnt = 0\n",
        "        else:\n",
        "            early_stop_cnt += 1\n",
        "\n",
        "        epoch += 1\n",
        "        loss_record['dev'].append(dev_mse)\n",
        "        if early_stop_cnt > config['early_stop']:\n",
        "            # Stop training if your model stops improving for \"config['early_stop']\" epochs.\n",
        "            break\n",
        "\n",
        "    print('Finished training after {} epochs'.format(epoch))\n",
        "    return min_mse, loss_record"
      ],
      "execution_count": 174,
      "outputs": []
    },
    {
      "cell_type": "markdown",
      "metadata": {
        "id": "0hSd4Bn3O2PL"
      },
      "source": [
        "## **Validation**"
      ]
    },
    {
      "cell_type": "code",
      "metadata": {
        "id": "yrxrD3YsN3U2"
      },
      "source": [
        "def dev(dv_set, model, device):\n",
        "    model.eval()                                # set model to evalutation mode\n",
        "    total_loss = 0\n",
        "    for x, y in dv_set:                         # iterate through the dataloader\n",
        "        x, y = x.to(device), y.to(device)       # move data to device (cpu/cuda)\n",
        "        with torch.no_grad():                   # disable gradient calculation\n",
        "            pred = model(x)                     # forward pass (compute output)\n",
        "            mse_loss = model.cal_loss(pred, y, 1e-5)  # compute loss\n",
        "        total_loss += mse_loss.detach().cpu().item() * len(x)  # accumulate loss\n",
        "    total_loss = total_loss / len(dv_set.dataset)              # compute averaged loss\n",
        "\n",
        "    return total_loss"
      ],
      "execution_count": 175,
      "outputs": []
    },
    {
      "cell_type": "markdown",
      "metadata": {
        "id": "g0pdrhQAO41L"
      },
      "source": [
        "## **Testing**"
      ]
    },
    {
      "cell_type": "code",
      "metadata": {
        "id": "aSBMRFlYN5tB"
      },
      "source": [
        "def test(tt_set, model, device):\n",
        "    model.eval()                                # set model to evalutation mode\n",
        "    preds = []\n",
        "    for x in tt_set:                            # iterate through the dataloader\n",
        "        x = x.to(device)                        # move data to device (cpu/cuda)\n",
        "        with torch.no_grad():                   # disable gradient calculation\n",
        "            pred = model(x)                     # forward pass (compute output)\n",
        "            preds.append(pred.detach().cpu())   # collect prediction\n",
        "    preds = torch.cat(preds, dim=0).numpy()     # concatenate all predictions and convert to a numpy array\n",
        "    return preds"
      ],
      "execution_count": 176,
      "outputs": []
    },
    {
      "cell_type": "markdown",
      "metadata": {
        "id": "SvckkF5dvf0j"
      },
      "source": [
        "# **Setup Hyper-parameters**\n",
        "\n",
        "`config` contains hyper-parameters for training and the path to save your model."
      ]
    },
    {
      "cell_type": "code",
      "metadata": {
        "id": "NPXpdumwPjE7"
      },
      "source": [
        "device = get_device()                 # get the current available device ('cpu' or 'cuda')\n",
        "os.makedirs('models', exist_ok=True)  # The trained model will be saved to ./models/\n",
        "target_only = True                   # TODO: Using 40 states & 2 tested_positive features\n",
        "\n",
        "# TODO: How to tune these hyper-parameters to improve your model's performance?\n",
        "config = {\n",
        "    'n_epochs': 3000,                # maximum number of epochs\n",
        "    'batch_size': 270,               # mini-batch size for dataloader\n",
        "    'optimizer': 'Adam',              # optimization algorithm (optimizer in torch.optim)\n",
        "    'optim_hparas': {                # hyper-parameters for the optimizer (depends on which optimizer you are using)\n",
        "        'lr': 0.001,                 # learning rate of SGD\n",
        "        # 'momentum': 0.9,              # momentum for SGD\n",
        "        # 'weight_decay': 1e-5          # weight decay (L2 regularization)\n",
        "    },\n",
        "    'early_stop': 200,               # early stopping epochs (the number epochs since your model's last improvement)\n",
        "    'save_path': 'models/model.pth'  # your model will be saved here\n",
        "}"
      ],
      "execution_count": 177,
      "outputs": []
    },
    {
      "cell_type": "markdown",
      "metadata": {
        "id": "6j1eOV3TOH-j"
      },
      "source": [
        "# **Load data and model**"
      ]
    },
    {
      "cell_type": "code",
      "metadata": {
        "colab": {
          "base_uri": "https://localhost:8080/"
        },
        "id": "eNrYBMmePLKm",
        "outputId": "b4203bde-e768-47a5-a356-1581ac1268f9"
      },
      "source": [
        "tr_set = prep_dataloader(tr_path, 'train', config['batch_size'], target_only=target_only)\n",
        "dv_set = prep_dataloader(tr_path, 'dev', config['batch_size'], target_only=target_only)\n",
        "tt_set = prep_dataloader(tt_path, 'test', config['batch_size'], target_only=target_only)"
      ],
      "execution_count": 178,
      "outputs": [
        {
          "output_type": "stream",
          "name": "stdout",
          "text": [
            "Finished reading the train set of COVID19 Dataset (2700 samples found, each dim = 14)\n",
            "Finished reading the dev set of COVID19 Dataset (270 samples found, each dim = 14)\n",
            "Finished reading the test set of COVID19 Dataset (893 samples found, each dim = 14)\n"
          ]
        }
      ]
    },
    {
      "cell_type": "code",
      "metadata": {
        "id": "FHylSirLP9oh"
      },
      "source": [
        "model = NeuralNet(tr_set.dataset.dim).to(device)  # Construct model and move to device"
      ],
      "execution_count": 179,
      "outputs": []
    },
    {
      "cell_type": "markdown",
      "metadata": {
        "id": "sX2B_zgSOPTJ"
      },
      "source": [
        "# **Start Training!**"
      ]
    },
    {
      "cell_type": "code",
      "metadata": {
        "colab": {
          "base_uri": "https://localhost:8080/"
        },
        "id": "GrEbUxazQAAZ",
        "outputId": "c718bf73-10ea-4926-ca14-106d0057c99d"
      },
      "source": [
        "model_loss, model_loss_record = train(tr_set, dv_set, model, config, device)"
      ],
      "execution_count": 180,
      "outputs": [
        {
          "output_type": "stream",
          "name": "stdout",
          "text": [
            "Saving model (epoch =    1, loss = 34.6481)\n",
            "Saving model (epoch =    2, loss = 10.4475)\n",
            "Saving model (epoch =    4, loss = 9.9052)\n",
            "Saving model (epoch =    5, loss = 9.1882)\n",
            "Saving model (epoch =    6, loss = 8.4737)\n",
            "Saving model (epoch =    7, loss = 8.0102)\n",
            "Saving model (epoch =    8, loss = 7.3847)\n",
            "Saving model (epoch =    9, loss = 6.7833)\n",
            "Saving model (epoch =   10, loss = 6.1421)\n",
            "Saving model (epoch =   11, loss = 5.5074)\n",
            "Saving model (epoch =   12, loss = 4.8671)\n",
            "Saving model (epoch =   13, loss = 4.2730)\n",
            "Saving model (epoch =   14, loss = 3.7354)\n",
            "Saving model (epoch =   15, loss = 3.1989)\n",
            "Saving model (epoch =   16, loss = 2.7621)\n",
            "Saving model (epoch =   17, loss = 2.4214)\n",
            "Saving model (epoch =   18, loss = 2.0835)\n",
            "Saving model (epoch =   19, loss = 1.8297)\n",
            "Saving model (epoch =   20, loss = 1.6539)\n",
            "Saving model (epoch =   21, loss = 1.5055)\n",
            "Saving model (epoch =   22, loss = 1.4165)\n",
            "Saving model (epoch =   23, loss = 1.3527)\n",
            "Saving model (epoch =   25, loss = 1.3225)\n",
            "Saving model (epoch =   26, loss = 1.2558)\n",
            "Saving model (epoch =   27, loss = 1.2428)\n",
            "Saving model (epoch =   28, loss = 1.2368)\n",
            "Saving model (epoch =   29, loss = 1.2249)\n",
            "Saving model (epoch =   30, loss = 1.2229)\n",
            "Saving model (epoch =   31, loss = 1.2143)\n",
            "Saving model (epoch =   33, loss = 1.2057)\n",
            "Saving model (epoch =   34, loss = 1.2021)\n",
            "Saving model (epoch =   38, loss = 1.1941)\n",
            "Saving model (epoch =   39, loss = 1.1858)\n",
            "Saving model (epoch =   41, loss = 1.1784)\n",
            "Saving model (epoch =   46, loss = 1.1688)\n",
            "Saving model (epoch =   47, loss = 1.1599)\n",
            "Saving model (epoch =   48, loss = 1.1568)\n",
            "Saving model (epoch =   50, loss = 1.1563)\n",
            "Saving model (epoch =   52, loss = 1.1500)\n",
            "Saving model (epoch =   54, loss = 1.1391)\n",
            "Saving model (epoch =   57, loss = 1.1302)\n",
            "Saving model (epoch =   63, loss = 1.1132)\n",
            "Saving model (epoch =   67, loss = 1.1028)\n",
            "Saving model (epoch =   72, loss = 1.0893)\n",
            "Saving model (epoch =   73, loss = 1.0880)\n",
            "Saving model (epoch =   74, loss = 1.0840)\n",
            "Saving model (epoch =   80, loss = 1.0838)\n",
            "Saving model (epoch =   81, loss = 1.0658)\n",
            "Saving model (epoch =   82, loss = 1.0625)\n",
            "Saving model (epoch =   84, loss = 1.0603)\n",
            "Saving model (epoch =   88, loss = 1.0561)\n",
            "Saving model (epoch =   89, loss = 1.0539)\n",
            "Saving model (epoch =   99, loss = 1.0316)\n",
            "Saving model (epoch =  101, loss = 1.0270)\n",
            "Saving model (epoch =  102, loss = 1.0138)\n",
            "Saving model (epoch =  105, loss = 1.0071)\n",
            "Saving model (epoch =  106, loss = 1.0048)\n",
            "Saving model (epoch =  107, loss = 1.0030)\n",
            "Saving model (epoch =  108, loss = 1.0007)\n",
            "Saving model (epoch =  109, loss = 0.9996)\n",
            "Saving model (epoch =  112, loss = 0.9919)\n",
            "Saving model (epoch =  114, loss = 0.9875)\n",
            "Saving model (epoch =  119, loss = 0.9765)\n",
            "Saving model (epoch =  120, loss = 0.9743)\n",
            "Saving model (epoch =  122, loss = 0.9723)\n",
            "Saving model (epoch =  123, loss = 0.9685)\n",
            "Saving model (epoch =  127, loss = 0.9593)\n",
            "Saving model (epoch =  131, loss = 0.9523)\n",
            "Saving model (epoch =  132, loss = 0.9498)\n",
            "Saving model (epoch =  137, loss = 0.9403)\n",
            "Saving model (epoch =  140, loss = 0.9354)\n",
            "Saving model (epoch =  146, loss = 0.9344)\n",
            "Saving model (epoch =  147, loss = 0.9335)\n",
            "Saving model (epoch =  151, loss = 0.9167)\n",
            "Saving model (epoch =  152, loss = 0.9139)\n",
            "Saving model (epoch =  153, loss = 0.9136)\n",
            "Saving model (epoch =  154, loss = 0.9113)\n",
            "Saving model (epoch =  155, loss = 0.9084)\n",
            "Saving model (epoch =  156, loss = 0.9071)\n",
            "Saving model (epoch =  160, loss = 0.9026)\n",
            "Saving model (epoch =  161, loss = 0.8992)\n",
            "Saving model (epoch =  174, loss = 0.8817)\n",
            "Saving model (epoch =  177, loss = 0.8811)\n",
            "Saving model (epoch =  179, loss = 0.8760)\n",
            "Saving model (epoch =  180, loss = 0.8747)\n",
            "Saving model (epoch =  181, loss = 0.8693)\n",
            "Saving model (epoch =  183, loss = 0.8660)\n",
            "Saving model (epoch =  188, loss = 0.8603)\n",
            "Saving model (epoch =  189, loss = 0.8587)\n",
            "Saving model (epoch =  190, loss = 0.8564)\n",
            "Saving model (epoch =  198, loss = 0.8474)\n",
            "Saving model (epoch =  200, loss = 0.8460)\n",
            "Saving model (epoch =  201, loss = 0.8435)\n",
            "Saving model (epoch =  205, loss = 0.8391)\n",
            "Saving model (epoch =  208, loss = 0.8389)\n",
            "Saving model (epoch =  209, loss = 0.8379)\n",
            "Saving model (epoch =  211, loss = 0.8374)\n",
            "Saving model (epoch =  212, loss = 0.8348)\n",
            "Saving model (epoch =  214, loss = 0.8317)\n",
            "Saving model (epoch =  216, loss = 0.8280)\n",
            "Saving model (epoch =  223, loss = 0.8249)\n",
            "Saving model (epoch =  224, loss = 0.8230)\n",
            "Saving model (epoch =  225, loss = 0.8206)\n",
            "Saving model (epoch =  226, loss = 0.8197)\n",
            "Saving model (epoch =  230, loss = 0.8184)\n",
            "Saving model (epoch =  231, loss = 0.8159)\n",
            "Saving model (epoch =  239, loss = 0.8135)\n",
            "Saving model (epoch =  243, loss = 0.8088)\n",
            "Saving model (epoch =  248, loss = 0.8046)\n",
            "Saving model (epoch =  251, loss = 0.8045)\n",
            "Saving model (epoch =  254, loss = 0.8007)\n",
            "Saving model (epoch =  255, loss = 0.8003)\n",
            "Saving model (epoch =  259, loss = 0.7982)\n",
            "Saving model (epoch =  264, loss = 0.7972)\n",
            "Saving model (epoch =  265, loss = 0.7961)\n",
            "Saving model (epoch =  266, loss = 0.7949)\n",
            "Saving model (epoch =  270, loss = 0.7927)\n",
            "Saving model (epoch =  275, loss = 0.7909)\n",
            "Saving model (epoch =  279, loss = 0.7908)\n",
            "Saving model (epoch =  283, loss = 0.7895)\n",
            "Saving model (epoch =  287, loss = 0.7866)\n",
            "Saving model (epoch =  294, loss = 0.7853)\n",
            "Saving model (epoch =  297, loss = 0.7836)\n",
            "Saving model (epoch =  298, loss = 0.7826)\n",
            "Saving model (epoch =  311, loss = 0.7824)\n",
            "Saving model (epoch =  316, loss = 0.7796)\n",
            "Saving model (epoch =  321, loss = 0.7779)\n",
            "Saving model (epoch =  325, loss = 0.7777)\n",
            "Saving model (epoch =  329, loss = 0.7765)\n",
            "Saving model (epoch =  333, loss = 0.7762)\n",
            "Saving model (epoch =  335, loss = 0.7755)\n",
            "Saving model (epoch =  336, loss = 0.7752)\n",
            "Saving model (epoch =  342, loss = 0.7742)\n",
            "Saving model (epoch =  344, loss = 0.7742)\n",
            "Saving model (epoch =  349, loss = 0.7738)\n",
            "Saving model (epoch =  352, loss = 0.7728)\n",
            "Saving model (epoch =  355, loss = 0.7725)\n",
            "Saving model (epoch =  363, loss = 0.7715)\n",
            "Saving model (epoch =  374, loss = 0.7707)\n",
            "Saving model (epoch =  389, loss = 0.7701)\n",
            "Saving model (epoch =  391, loss = 0.7700)\n",
            "Saving model (epoch =  398, loss = 0.7697)\n",
            "Saving model (epoch =  421, loss = 0.7694)\n",
            "Saving model (epoch =  424, loss = 0.7689)\n",
            "Saving model (epoch =  435, loss = 0.7687)\n",
            "Saving model (epoch =  442, loss = 0.7686)\n",
            "Saving model (epoch =  450, loss = 0.7684)\n",
            "Saving model (epoch =  453, loss = 0.7681)\n",
            "Saving model (epoch =  479, loss = 0.7678)\n",
            "Saving model (epoch =  501, loss = 0.7677)\n",
            "Saving model (epoch =  503, loss = 0.7677)\n",
            "Saving model (epoch =  505, loss = 0.7675)\n",
            "Saving model (epoch =  514, loss = 0.7675)\n",
            "Saving model (epoch =  516, loss = 0.7673)\n",
            "Finished training after 717 epochs\n"
          ]
        }
      ]
    },
    {
      "cell_type": "code",
      "metadata": {
        "colab": {
          "base_uri": "https://localhost:8080/",
          "height": 295
        },
        "id": "hsNO9nnXQBvP",
        "outputId": "15cd59ce-1680-461c-b5dc-4898e0b02088"
      },
      "source": [
        "plot_learning_curve(model_loss_record, title='deep model')"
      ],
      "execution_count": 181,
      "outputs": [
        {
          "output_type": "display_data",
          "data": {
            "text/plain": [
              "<Figure size 432x288 with 1 Axes>"
            ],
            "image/png": "[encoded data removed]"
          },
          "metadata": {
            "needs_background": "light"
          }
        }
      ]
    },
    {
      "cell_type": "code",
      "metadata": {
        "colab": {
          "base_uri": "https://localhost:8080/",
          "height": 350
        },
        "id": "3iZTVn5WQFpX",
        "outputId": "7150b2c9-0081-4705-f779-ae05484a2dde"
      },
      "source": [
        "del model\n",
        "model = NeuralNet(tr_set.dataset.dim).to(device)\n",
        "ckpt = torch.load(config['save_path'], map_location='cpu')  # Load your best model\n",
        "model.load_state_dict(ckpt)\n",
        "plot_pred(dv_set, model, device)  # Show prediction on the validation set"
      ],
      "execution_count": 182,
      "outputs": [
        {
          "output_type": "display_data",
          "data": {
            "text/plain": [
              "<Figure size 360x360 with 1 Axes>"
            ],
            "image/png": "[encoded data removed]"
          },
          "metadata": {
            "needs_background": "light"
          }
        }
      ]
    },
    {
      "cell_type": "markdown",
      "metadata": {
        "id": "aQikz3IPiyPf"
      },
      "source": [
        "# **Testing**\n",
        "The predictions of your model on testing set will be stored at `pred.csv`."
      ]
    },
    {
      "cell_type": "code",
      "metadata": {
        "colab": {
          "base_uri": "https://localhost:8080/"
        },
        "id": "O8cTuQjQQOon",
        "outputId": "cd02087c-e8c4-4f26-b212-fe9f9bcece0b"
      },
      "source": [
        "def save_pred(preds, file):\n",
        "    ''' Save predictions to specified file '''\n",
        "    print('Saving results to {}'.format(file))\n",
        "    with open(file, 'w') as fp:\n",
        "        writer = csv.writer(fp)\n",
        "        writer.writerow(['id', 'tested_positive'])\n",
        "        for i, p in enumerate(preds):\n",
        "            writer.writerow([i, p])\n",
        "\n",
        "preds = test(tt_set, model, device)  # predict COVID-19 cases with your model\n",
        "save_pred(preds, 'pred.csv')         # save prediction file to pred.csv"
      ],
      "execution_count": 183,
      "outputs": [
        {
          "output_type": "stream",
          "name": "stdout",
          "text": [
            "Saving results to pred.csv\n"
          ]
        }
      ]
    },
    {
      "cell_type": "markdown",
      "metadata": {
        "id": "nfrVxqJanGpE"
      },
      "source": [
        "# **Hints**\n",
        "\n",
        "## **Simple Baseline**\n",
        "* Run sample code\n",
        "\n",
        "## **Medium Baseline**\n",
        "* Feature selection: 40 states + 2 `tested_positive` (`TODO` in dataset)\n",
        "\n",
        "## **Strong Baseline**\n",
        "* Feature selection (what other features are useful?)\n",
        "* DNN architecture (layers? dimension? activation function?)\n",
        "* Training (mini-batch? optimizer? learning rate?)\n",
        "* L2 regularization\n",
        "* There are some mistakes in the sample code, can you find them?"
      ]
    },
    {
      "cell_type": "markdown",
      "metadata": {
        "id": "9tmCwXgpot3t"
      },
      "source": [
        "# **Reference**\n",
        "This code is completely written by Heng-Jui Chang @ NTUEE.  \n",
        "Copying or reusing this code is required to specify the original author. \n",
        "\n",
        "E.g.  \n",
        "Source: Heng-Jui Chang @ NTUEE (https://github.com/ga642381/ML2021-Spring/blob/main/HW01/HW01.ipynb)\n"
      ]
    }
  ]
}